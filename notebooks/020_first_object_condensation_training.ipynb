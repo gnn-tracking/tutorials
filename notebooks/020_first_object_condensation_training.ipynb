{
 "cells": [
  {
   "cell_type": "markdown",
   "metadata": {
    "collapsed": false
   },
   "source": [
    "# First object condensation model training\n",
    "\n",
    "* **Requirements*: You need to have graphs constructed, e.g., with `010_build_graphs.ipynb`"
   ]
  },
  {
   "cell_type": "code",
   "execution_count": 1,
   "metadata": {
    "collapsed": false
   },
   "outputs": [],
   "source": [
    "from pathlib import Path\n",
    "\n",
    "from gnn_tracking.postprocessing.dbscanscanner import dbscan_scan\n",
    "\n",
    "from gnn_tracking.models.track_condensation_networks import GraphTCN\n",
    "from gnn_tracking.training.tcn_trainer import TCNTrainer\n",
    "from gnn_tracking.metrics.losses import (\n",
    "    EdgeWeightFocalLoss,\n",
    "    PotentialLoss,\n",
    "    BackgroundLoss,\n",
    ")\n",
    "from gnn_tracking.utils.loading import get_loaders, TrackingDataset"
   ]
  },
  {
   "cell_type": "code",
   "execution_count": 2,
   "metadata": {
    "collapsed": false
   },
   "outputs": [],
   "source": [
    "graph_dir = Path.home() / \"data\" / \"gnn_tracking\" / \"graphs\"\n",
    "assert graph_dir.is_dir()"
   ]
  },
  {
   "cell_type": "code",
   "execution_count": 3,
   "metadata": {
    "collapsed": false
   },
   "outputs": [
    {
     "name": "stderr",
     "output_type": "stream",
     "text": [
      "\u001B[32m[17:28:57] INFO: DataLoader will load 9 graphs (out of 10 available).\u001B[0m\n",
      "\u001B[36m[17:28:57] DEBUG: First graph is /Users/fuchur/data/gnn_tracking/graphs/data21000_s5.pt, last graph is /Users/fuchur/data/gnn_tracking/graphs/data21008_s10.pt\u001B[0m\n",
      "\u001B[32m[17:28:57] INFO: DataLoader will load 1 graphs (out of 10 available).\u001B[0m\n",
      "\u001B[36m[17:28:57] DEBUG: First graph is /Users/fuchur/data/gnn_tracking/graphs/data21008_s24.pt, last graph is /Users/fuchur/data/gnn_tracking/graphs/data21008_s24.pt\u001B[0m\n",
      "\u001B[36m[17:28:57] DEBUG: Parameters for data loader 'train': {'batch_size': 1, 'num_workers': 1, 'sampler': <torch.utils.data.sampler.RandomSampler object at 0x11154c4f0>, 'pin_memory': True}\u001B[0m\n",
      "\u001B[36m[17:28:57] DEBUG: Parameters for data loader 'val': {'batch_size': 1, 'num_workers': 1, 'sampler': None, 'pin_memory': True}\u001B[0m\n"
     ]
    }
   ],
   "source": [
    "datasets = {\n",
    "    \"train\": TrackingDataset(graph_dir, stop=9),\n",
    "    \"val\": TrackingDataset(graph_dir, start=9, stop=10),\n",
    "}\n",
    "loaders = get_loaders(datasets)"
   ]
  },
  {
   "cell_type": "code",
   "execution_count": 4,
   "metadata": {
    "collapsed": false
   },
   "outputs": [],
   "source": [
    "loss_functions = {\n",
    "    \"edge\": (EdgeWeightFocalLoss(gamma=5, alpha=0.95), 500.0),\n",
    "    \"potential\": (PotentialLoss(q_min=0.01), {\"attractive\": 500, \"repulsive\": 5}),\n",
    "    \"background\": (BackgroundLoss(sb=1), 0.05),\n",
    "}"
   ]
  },
  {
   "attachments": {},
   "cell_type": "markdown",
   "metadata": {},
   "source": [
    "The values after the loss functions are the loss weights. The potential loss is a special case, because it returns a dictionary two values: `attractive` and `repulsive`. Therefore, there are also two loss weights."
   ]
  },
  {
   "cell_type": "code",
   "execution_count": 8,
   "metadata": {
    "collapsed": false
   },
   "outputs": [],
   "source": [
    "model = GraphTCN(\n",
    "    node_indim=datasets[\"train\"].num_node_features,\n",
    "    edge_indim=datasets[\"train\"].num_edge_features,\n",
    "    h_dim=10,\n",
    "    e_dim=10,\n",
    "    L_ec=5,\n",
    "    L_hc=2,\n",
    "    h_outdim=10,\n",
    "    hidden_dim=128,\n",
    ")"
   ]
  },
  {
   "cell_type": "code",
   "execution_count": 9,
   "metadata": {
    "collapsed": false
   },
   "outputs": [],
   "source": [
    "clustering_functions = {\"dbscan\": dbscan_scan}"
   ]
  },
  {
   "cell_type": "code",
   "execution_count": 10,
   "metadata": {
    "collapsed": false
   },
   "outputs": [
    {
     "name": "stderr",
     "output_type": "stream",
     "text": [
      "\u001B[32m[17:30:33 TCNTrainer] INFO: Using device cpu\u001B[0m\n"
     ]
    }
   ],
   "source": [
    "trainer = TCNTrainer(\n",
    "    model=model,\n",
    "    loaders=loaders,\n",
    "    loss_functions=loss_functions,\n",
    "    lr=0.005,\n",
    "    cluster_functions=clustering_functions,\n",
    ")"
   ]
  },
  {
   "cell_type": "code",
   "execution_count": 11,
   "metadata": {
    "collapsed": false
   },
   "outputs": [
    {
     "name": "stderr",
     "output_type": "stream",
     "text": [
      "\u001B[32m[17:30:37 TCNTrainer] INFO: Epoch  1 (    0/9): edge_weighted=   0.91777, potential_attractive_weighted=   0.00905, potential_repulsive_weighted=1862.03873, background_weighted=   0.04993\u001B[0m\n",
      "\u001B[32m[17:30:46 TCNTrainer] INFO: Training for epoch 1 took 10.92 seconds\u001B[0m\n",
      "/Users/fuchur/.miniconda3/envs/gnn/lib/python3.9/site-packages/numpy/lib/nanfunctions.py:1872: RuntimeWarning: Degrees of freedom <= 0 for slice.\n",
      "  var = nanvar(a, axis=axis, dtype=dtype, out=out, ddof=ddof,\n",
      "/Users/fuchur/.miniconda3/envs/gnn/lib/python3.9/site-packages/numpy/core/fromnumeric.py:3747: RuntimeWarning: Degrees of freedom <= 0 for slice\n",
      "  return _methods._var(a, axis=axis, dtype=dtype, out=out, ddof=ddof,\n",
      "/Users/fuchur/.miniconda3/envs/gnn/lib/python3.9/site-packages/numpy/core/_methods.py:261: RuntimeWarning: invalid value encountered in scalar divide\n",
      "  ret = ret.dtype.type(ret / rcount)\n",
      "\u001B[33m[17:30:53 ClusterHP] WARNING: Only using 1 thread for DBSCAN scan\u001B[0m\n",
      "\u001B[36m[17:30:53 ClusterHP] DEBUG: Starting from params: {'eps': 0.95, 'min_samples': 1}\u001B[0m\n",
      "\u001B[32m[17:30:53 ClusterHP] INFO: Starting hyperparameter scan for clustering\u001B[0m\n",
      "\u001B[36m[17:30:54 ClusterHP] DEBUG: Evaluating all metrics for best clustering\u001B[0m\n",
      "\u001B[36m[17:30:54 ClusterHP] DEBUG: Evaluating metrics took 0.027590 seconds: Clustering time: 0.004927, total metric eval: 0.022464, individual: v_measure: 0.0008469170000040549, homogeneity: 0.0007916249999908587, completeness: 0.0007492499999983693, trk: 0.018884791999994377, adjusted_rand: 0.0006838750000071059, fowlkes_mallows: 0.0005076659999900812\u001B[0m\n",
      "/Users/fuchur/.miniconda3/envs/gnn/lib/python3.9/site-packages/numpy/lib/nanfunctions.py:1872: RuntimeWarning: Degrees of freedom <= 0 for slice.\n",
      "  var = nanvar(a, axis=axis, dtype=dtype, out=out, ddof=ddof,\n",
      "/Users/fuchur/.miniconda3/envs/gnn/lib/python3.9/site-packages/numpy/core/fromnumeric.py:3747: RuntimeWarning: Degrees of freedom <= 0 for slice\n",
      "  return _methods._var(a, axis=axis, dtype=dtype, out=out, ddof=ddof,\n",
      "/Users/fuchur/.miniconda3/envs/gnn/lib/python3.9/site-packages/numpy/core/_methods.py:261: RuntimeWarning: invalid value encountered in scalar divide\n",
      "  ret = ret.dtype.type(ret / rcount)\n",
      "\u001B[36m[17:30:54 ClusterHP] DEBUG: Variance among 100 trials is 0.213337. Min/max: 0.059647/0.858368\u001B[0m\n",
      "\u001B[32m[17:30:54 ClusterHP] INFO: Clustering hyperparameter scan & metric evaluation took 1.04 seconds\u001B[0m\n",
      "\u001B[32m[17:30:54 TCNTrainer] INFO: Test step for epoch 1 took 7.49 seconds\u001B[0m\n",
      "\u001B[32m[17:30:54 TCNTrainer] INFO: Results 1: \n",
      "+-----+-------------------------------------+-----------+-------+\n",
      "|     | Metric                              |     Value | Std   |\n",
      "+=====+=====================================+===========+=======+\n",
      "|     | F1_pt0.9                            |   0.03635 | nan   |\n",
      "|     | F1_pt1.5                            |   0.02529 | nan   |\n",
      "|     | FNR_pt0.9                           |   0.00000 | nan   |\n",
      "|     | FNR_pt1.5                           |   0.00000 | nan   |\n",
      "|     | FPR_pt0.9                           |   1.00000 | nan   |\n",
      "|     | FPR_pt1.5                           |   1.00000 | nan   |\n",
      "|     | MCC_pt0.9                           |   0.00000 | nan   |\n",
      "|     | MCC_pt1.5                           |   0.00000 | nan   |\n",
      "|     | TNR_pt0.9                           |   0.00000 | nan   |\n",
      "|     | TNR_pt1.5                           |   0.00000 | nan   |\n",
      "|     | TPR_pt0.9                           |   1.00000 | nan   |\n",
      "|     | TPR_pt1.5                           |   1.00000 | nan   |\n",
      "|     | acc_pt0.9                           |   0.01851 | nan   |\n",
      "|     | acc_pt1.5                           |   0.01281 | nan   |\n",
      "|     | adjusted_rand                       |   0.10152 | nan   |\n",
      "|     | background                          |   0.99937 | nan   |\n",
      "|     | background_train                    |   0.99091 |       |\n",
      "|     | background_weighted                 |   0.04997 | nan   |\n",
      "|     | background_weighted_train           |   0.04955 |       |\n",
      "|     | balanced_acc_pt0.9                  |   0.50000 | nan   |\n",
      "|     | balanced_acc_pt1.5                  |   0.50000 | nan   |\n",
      "|     | best_dbscan_eps                     |   0.00064 |       |\n",
      "|     | best_dbscan_min_samples             |   1.00000 |       |\n",
      "|     | completeness                        |   0.76013 | nan   |\n",
      "|     | edge                                |   0.00163 | nan   |\n",
      "|     | edge_train                          |   0.00182 |       |\n",
      "|     | edge_weighted                       |   0.81639 | nan   |\n",
      "|     | edge_weighted_train                 |   0.90882 |       |\n",
      "|     | fowlkes_mallows                     |   0.19335 | nan   |\n",
      "|     | homogeneity                         |   0.98577 | nan   |\n",
      "|     | max_ba_loc_pt0.9                    |   0.00000 | nan   |\n",
      "|     | max_ba_loc_pt1.5                    |   0.00000 | nan   |\n",
      "|     | max_ba_pt0.9                        |   0.50000 | nan   |\n",
      "|     | max_ba_pt1.5                        |   0.50000 | nan   |\n",
      "|     | max_f1_loc_pt0.9                    |   0.00000 | nan   |\n",
      "|     | max_f1_loc_pt1.5                    |   0.00000 | nan   |\n",
      "|     | max_f1_pt0.9                        |   0.03635 | nan   |\n",
      "|     | max_f1_pt1.5                        |   0.02529 | nan   |\n",
      "|     | max_mcc_loc_pt0.9                   |   0.00000 | nan   |\n",
      "|     | max_mcc_loc_pt1.5                   |   0.00000 | nan   |\n",
      "| --> | max_mcc_pt0.9                       |   0.00000 | nan   |\n",
      "| --> | max_mcc_pt1.5                       |   0.00000 | nan   |\n",
      "|     | potential_attractive                |   0.05280 | nan   |\n",
      "|     | potential_attractive_train          |   0.17223 |       |\n",
      "|     | potential_attractive_weighted       |  26.40168 | nan   |\n",
      "|     | potential_attractive_weighted_train |  86.11645 |       |\n",
      "|     | potential_repulsive                 |   0.15170 | nan   |\n",
      "|     | potential_repulsive_train           |  64.40386 |       |\n",
      "|     | potential_repulsive_weighted        |   0.75852 | nan   |\n",
      "|     | potential_repulsive_weighted_train  | 322.01929 |       |\n",
      "|     | roc_auc_0.001FPR_pt0.9              |   0.49975 | nan   |\n",
      "|     | roc_auc_0.001FPR_pt1.5              |   0.49975 | nan   |\n",
      "|     | roc_auc_0.01FPR_pt0.9               |   0.49847 | nan   |\n",
      "|     | roc_auc_0.01FPR_pt1.5               |   0.49896 | nan   |\n",
      "|     | roc_auc_0.1FPR_pt0.9                |   0.50264 | nan   |\n",
      "|     | roc_auc_0.1FPR_pt1.5                |   0.50537 | nan   |\n",
      "|     | roc_auc_pt0.9                       |   0.52885 | nan   |\n",
      "|     | roc_auc_pt1.5                       |   0.55268 | nan   |\n",
      "|     | total                               |  28.02655 | nan   |\n",
      "|     | total_train                         | 409.09410 |       |\n",
      "|     | tpr_eq_tnr_loc_pt0.9                |   0.00000 | nan   |\n",
      "|     | tpr_eq_tnr_loc_pt1.5                |   0.00000 | nan   |\n",
      "| --> | tpr_eq_tnr_pt0.9                    |   0.50000 | nan   |\n",
      "| --> | tpr_eq_tnr_pt1.5                    |   0.50000 | nan   |\n",
      "|     | trk.double_majority                 |   0.00000 | nan   |\n",
      "|     | trk.double_majority_pt0.5           |   0.00000 | nan   |\n",
      "| --> | trk.double_majority_pt0.9           |   0.00000 | nan   |\n",
      "| --> | trk.double_majority_pt1.5           |   0.00000 | nan   |\n",
      "|     | trk.fake_double_majority            |   0.27491 | nan   |\n",
      "|     | trk.fake_double_majority_pt0.5      |   0.29839 | nan   |\n",
      "| --> | trk.fake_double_majority_pt0.9      |   0.33898 | nan   |\n",
      "| --> | trk.fake_double_majority_pt1.5      |   0.30435 | nan   |\n",
      "|     | trk.fake_lhc                        |   0.38750 | nan   |\n",
      "|     | trk.fake_lhc_pt0.5                  |   0.29730 | nan   |\n",
      "|     | trk.fake_lhc_pt0.9                  |   0.40000 | nan   |\n",
      "|     | trk.fake_lhc_pt1.5                  |   0.42857 | nan   |\n",
      "|     | trk.fake_perfect                    |   0.27491 | nan   |\n",
      "|     | trk.fake_perfect_pt0.5              |   0.29839 | nan   |\n",
      "|     | trk.fake_perfect_pt0.9              |   0.33898 | nan   |\n",
      "|     | trk.fake_perfect_pt1.5              |   0.30435 | nan   |\n",
      "|     | trk.lhc                             |   0.61250 | nan   |\n",
      "|     | trk.lhc_pt0.5                       |   0.70270 | nan   |\n",
      "|     | trk.lhc_pt0.9                       |   0.60000 | nan   |\n",
      "|     | trk.lhc_pt1.5                       |   0.57143 | nan   |\n",
      "|     | trk.n_cleaned_clusters              |  80.00000 | nan   |\n",
      "|     | trk.n_cleaned_clusters_pt0.5        |  37.00000 | nan   |\n",
      "|     | trk.n_cleaned_clusters_pt0.9        |  20.00000 | nan   |\n",
      "|     | trk.n_cleaned_clusters_pt1.5        |   7.00000 | nan   |\n",
      "|     | trk.n_particles                     | 291.00000 | nan   |\n",
      "|     | trk.n_particles_pt0.5               | 124.00000 | nan   |\n",
      "|     | trk.n_particles_pt0.9               |  59.00000 | nan   |\n",
      "|     | trk.n_particles_pt1.5               |  23.00000 | nan   |\n",
      "|     | trk.perfect                         |   0.00000 | nan   |\n",
      "|     | trk.perfect_pt0.5                   |   0.00000 | nan   |\n",
      "|     | trk.perfect_pt0.9                   |   0.00000 | nan   |\n",
      "|     | trk.perfect_pt1.5                   |   0.00000 | nan   |\n",
      "|     | v_measure                           |   0.85837 | nan   |\n",
      "+-----+-------------------------------------+-----------+-------+\u001B[0m\n",
      "\u001B[32m[17:30:55 TCNTrainer] INFO: Epoch  2 (    0/9): edge_weighted=   0.84688, potential_attractive_weighted=   0.73703, potential_repulsive_weighted=   1.37259, background_weighted=   0.05006\u001B[0m\n",
      "\u001B[32m[17:31:04 TCNTrainer] INFO: Training for epoch 2 took 10.10 seconds\u001B[0m\n",
      "/Users/fuchur/.miniconda3/envs/gnn/lib/python3.9/site-packages/numpy/lib/nanfunctions.py:1872: RuntimeWarning: Degrees of freedom <= 0 for slice.\n",
      "  var = nanvar(a, axis=axis, dtype=dtype, out=out, ddof=ddof,\n",
      "/Users/fuchur/.miniconda3/envs/gnn/lib/python3.9/site-packages/numpy/core/fromnumeric.py:3747: RuntimeWarning: Degrees of freedom <= 0 for slice\n",
      "  return _methods._var(a, axis=axis, dtype=dtype, out=out, ddof=ddof,\n",
      "/Users/fuchur/.miniconda3/envs/gnn/lib/python3.9/site-packages/numpy/core/_methods.py:261: RuntimeWarning: invalid value encountered in scalar divide\n",
      "  ret = ret.dtype.type(ret / rcount)\n",
      "\u001B[33m[17:31:10 ClusterHP] WARNING: Only using 1 thread for DBSCAN scan\u001B[0m\n",
      "\u001B[36m[17:31:10 ClusterHP] DEBUG: Starting from params: {'eps': 0.0006416144344551485, 'min_samples': 1}\u001B[0m\n",
      "\u001B[32m[17:31:10 ClusterHP] INFO: Starting hyperparameter scan for clustering\u001B[0m\n",
      "\u001B[36m[17:31:11 ClusterHP] DEBUG: Evaluating all metrics for best clustering\u001B[0m\n",
      "\u001B[36m[17:31:11 ClusterHP] DEBUG: Evaluating metrics took 0.018700 seconds: Clustering time: 0.005137, total metric eval: 0.013324, individual: v_measure: 0.0009135000000242144, homogeneity: 0.0008392919999948845, completeness: 0.0007737910000003012, trk: 0.00960708299999169, adjusted_rand: 0.0006687089999957152, fowlkes_mallows: 0.0005212089999986347\u001B[0m\n",
      "/Users/fuchur/.miniconda3/envs/gnn/lib/python3.9/site-packages/numpy/lib/nanfunctions.py:1872: RuntimeWarning: Degrees of freedom <= 0 for slice.\n",
      "  var = nanvar(a, axis=axis, dtype=dtype, out=out, ddof=ddof,\n",
      "/Users/fuchur/.miniconda3/envs/gnn/lib/python3.9/site-packages/numpy/core/fromnumeric.py:3747: RuntimeWarning: Degrees of freedom <= 0 for slice\n",
      "  return _methods._var(a, axis=axis, dtype=dtype, out=out, ddof=ddof,\n",
      "/Users/fuchur/.miniconda3/envs/gnn/lib/python3.9/site-packages/numpy/core/_methods.py:261: RuntimeWarning: invalid value encountered in scalar divide\n",
      "  ret = ret.dtype.type(ret / rcount)\n",
      "\u001B[36m[17:31:11 ClusterHP] DEBUG: Variance among 100 trials is 0.291241. Min/max: 0.000000/0.855898\u001B[0m\n",
      "\u001B[32m[17:31:11 ClusterHP] INFO: Clustering hyperparameter scan & metric evaluation took 1.12 seconds\u001B[0m\n",
      "\u001B[32m[17:31:11 TCNTrainer] INFO: Test step for epoch 2 took 7.51 seconds\u001B[0m\n",
      "\u001B[32m[17:31:11 TCNTrainer] INFO: Results 2: \n",
      "+-----+-------------------------------------+-----------+-------+\n",
      "|     | Metric                              |     Value | Std   |\n",
      "+=====+=====================================+===========+=======+\n",
      "|     | F1_pt0.9                            |   0.03635 | nan   |\n",
      "|     | F1_pt1.5                            |   0.02529 | nan   |\n",
      "|     | FNR_pt0.9                           |   0.00000 | nan   |\n",
      "|     | FNR_pt1.5                           |   0.00000 | nan   |\n",
      "|     | FPR_pt0.9                           |   1.00000 | nan   |\n",
      "|     | FPR_pt1.5                           |   1.00000 | nan   |\n",
      "|     | MCC_pt0.9                           |   0.00000 | nan   |\n",
      "|     | MCC_pt1.5                           |   0.00000 | nan   |\n",
      "|     | TNR_pt0.9                           |   0.00000 | nan   |\n",
      "|     | TNR_pt1.5                           |   0.00000 | nan   |\n",
      "|     | TPR_pt0.9                           |   1.00000 | nan   |\n",
      "|     | TPR_pt1.5                           |   1.00000 | nan   |\n",
      "|     | acc_pt0.9                           |   0.01851 | nan   |\n",
      "|     | acc_pt1.5                           |   0.01281 | nan   |\n",
      "|     | adjusted_rand                       |   0.07776 | nan   |\n",
      "|     | background                          |   0.99966 | nan   |\n",
      "|     | background_train                    |   0.99884 |       |\n",
      "|     | background_weighted                 |   0.04998 | nan   |\n",
      "|     | background_weighted_train           |   0.04994 |       |\n",
      "|     | balanced_acc_pt0.9                  |   0.50000 | nan   |\n",
      "|     | balanced_acc_pt1.5                  |   0.50000 | nan   |\n",
      "|     | best_dbscan_eps                     |   0.00064 |       |\n",
      "|     | best_dbscan_min_samples             |   1.00000 |       |\n",
      "|     | completeness                        |   0.75495 | nan   |\n",
      "|     | edge                                |   0.00163 | nan   |\n",
      "|     | edge_train                          |   0.00179 |       |\n",
      "|     | edge_weighted                       |   0.81639 | nan   |\n",
      "|     | edge_weighted_train                 |   0.89325 |       |\n",
      "|     | fowlkes_mallows                     |   0.16354 | nan   |\n",
      "|     | homogeneity                         |   0.98802 | nan   |\n",
      "|     | max_ba_loc_pt0.9                    |   0.00000 | nan   |\n",
      "|     | max_ba_loc_pt1.5                    |   0.00000 | nan   |\n",
      "|     | max_ba_pt0.9                        |   0.50000 | nan   |\n",
      "|     | max_ba_pt1.5                        |   0.50000 | nan   |\n",
      "|     | max_f1_loc_pt0.9                    |   0.00000 | nan   |\n",
      "|     | max_f1_loc_pt1.5                    |   0.00000 | nan   |\n",
      "|     | max_f1_pt0.9                        |   0.03635 | nan   |\n",
      "|     | max_f1_pt1.5                        |   0.02529 | nan   |\n",
      "|     | max_mcc_loc_pt0.9                   |   0.00000 | nan   |\n",
      "|     | max_mcc_loc_pt1.5                   |   0.00000 | nan   |\n",
      "| --> | max_mcc_pt0.9                       |   0.00000 | nan   |\n",
      "| --> | max_mcc_pt1.5                       |   0.00000 | nan   |\n",
      "|     | potential_attractive                |   0.00062 | nan   |\n",
      "|     | potential_attractive_train          |   0.00062 |       |\n",
      "|     | potential_attractive_weighted       |   0.30912 | nan   |\n",
      "|     | potential_attractive_weighted_train |   0.31180 |       |\n",
      "|     | potential_repulsive                 |   0.28520 | nan   |\n",
      "|     | potential_repulsive_train           |   0.35388 |       |\n",
      "|     | potential_repulsive_weighted        |   1.42601 | nan   |\n",
      "|     | potential_repulsive_weighted_train  |   1.76942 |       |\n",
      "|     | roc_auc_0.001FPR_pt0.9              |   0.49975 | nan   |\n",
      "|     | roc_auc_0.001FPR_pt1.5              |   0.49975 | nan   |\n",
      "|     | roc_auc_0.01FPR_pt0.9               |   0.49847 | nan   |\n",
      "|     | roc_auc_0.01FPR_pt1.5               |   0.49896 | nan   |\n",
      "|     | roc_auc_0.1FPR_pt0.9                |   0.50264 | nan   |\n",
      "|     | roc_auc_0.1FPR_pt1.5                |   0.50537 | nan   |\n",
      "|     | roc_auc_pt0.9                       |   0.52885 | nan   |\n",
      "|     | roc_auc_pt1.5                       |   0.55268 | nan   |\n",
      "|     | total                               |   2.60150 | nan   |\n",
      "|     | total_train                         |   3.02442 |       |\n",
      "|     | tpr_eq_tnr_loc_pt0.9                |   0.00000 | nan   |\n",
      "|     | tpr_eq_tnr_loc_pt1.5                |   0.00000 | nan   |\n",
      "| --> | tpr_eq_tnr_pt0.9                    |   0.50000 | nan   |\n",
      "| --> | tpr_eq_tnr_pt1.5                    |   0.50000 | nan   |\n",
      "|     | trk.double_majority                 |   0.00000 | nan   |\n",
      "|     | trk.double_majority_pt0.5           |   0.00000 | nan   |\n",
      "| --> | trk.double_majority_pt0.9           |   0.00000 | nan   |\n",
      "| --> | trk.double_majority_pt1.5           |   0.00000 | nan   |\n",
      "|     | trk.fake_double_majority            |   0.17526 | nan   |\n",
      "|     | trk.fake_double_majority_pt0.5      |   0.21774 | nan   |\n",
      "| --> | trk.fake_double_majority_pt0.9      |   0.20339 | nan   |\n",
      "| --> | trk.fake_double_majority_pt1.5      |   0.08696 | nan   |\n",
      "|     | trk.fake_lhc                        |   0.47059 | nan   |\n",
      "|     | trk.fake_lhc_pt0.5                  |   0.33333 | nan   |\n",
      "|     | trk.fake_lhc_pt0.9                  |   0.33333 | nan   |\n",
      "|     | trk.fake_lhc_pt1.5                  |   0.50000 | nan   |\n",
      "|     | trk.fake_perfect                    |   0.17526 | nan   |\n",
      "|     | trk.fake_perfect_pt0.5              |   0.21774 | nan   |\n",
      "|     | trk.fake_perfect_pt0.9              |   0.20339 | nan   |\n",
      "|     | trk.fake_perfect_pt1.5              |   0.08696 | nan   |\n",
      "|     | trk.lhc                             |   0.52941 | nan   |\n",
      "|     | trk.lhc_pt0.5                       |   0.66667 | nan   |\n",
      "|     | trk.lhc_pt0.9                       |   0.66667 | nan   |\n",
      "|     | trk.lhc_pt1.5                       |   0.50000 | nan   |\n",
      "|     | trk.n_cleaned_clusters              |  51.00000 | nan   |\n",
      "|     | trk.n_cleaned_clusters_pt0.5        |  27.00000 | nan   |\n",
      "|     | trk.n_cleaned_clusters_pt0.9        |  12.00000 | nan   |\n",
      "|     | trk.n_cleaned_clusters_pt1.5        |   2.00000 | nan   |\n",
      "|     | trk.n_particles                     | 291.00000 | nan   |\n",
      "|     | trk.n_particles_pt0.5               | 124.00000 | nan   |\n",
      "|     | trk.n_particles_pt0.9               |  59.00000 | nan   |\n",
      "|     | trk.n_particles_pt1.5               |  23.00000 | nan   |\n",
      "|     | trk.perfect                         |   0.00000 | nan   |\n",
      "|     | trk.perfect_pt0.5                   |   0.00000 | nan   |\n",
      "|     | trk.perfect_pt0.9                   |   0.00000 | nan   |\n",
      "|     | trk.perfect_pt1.5                   |   0.00000 | nan   |\n",
      "|     | v_measure                           |   0.85590 | nan   |\n",
      "+-----+-------------------------------------+-----------+-------+\u001B[0m\n",
      "\u001B[32m[17:31:11 TCNTrainer] INFO: Saving checkpoint to 230414_173111_model.pt\u001B[0m\n"
     ]
    }
   ],
   "source": [
    "trainer.train(epochs=2)"
   ]
  }
 ],
 "metadata": {
  "kernelspec": {
   "display_name": "Python 3",
   "language": "python",
   "name": "python3"
  },
  "language_info": {
   "codemirror_mode": {
    "name": "ipython",
    "version": 3
   },
   "file_extension": ".py",
   "mimetype": "text/x-python",
   "name": "python",
   "nbconvert_exporter": "python",
   "pygments_lexer": "ipython3",
   "version": "3.9.0"
  }
 },
 "nbformat": 4,
 "nbformat_minor": 0
}
