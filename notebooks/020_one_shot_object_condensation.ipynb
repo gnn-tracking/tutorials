{
 "cells": [
  {
   "cell_type": "markdown",
   "source": [
    "# One shot object condensation\n",
    "\n",
    "This notebook shows how you can implement a model that directly goes from point cloud data to object condensation."
   ],
   "metadata": {
    "collapsed": false
   }
  },
  {
   "cell_type": "code",
   "execution_count": 1,
   "outputs": [],
   "source": [
    "from pytorch_lightning.core.mixins import HyperparametersMixin\n",
    "from torch import nn\n",
    "from torch_geometric.nn.conv import GravNetConv\n",
    "from torch_geometric.data import Data\n",
    "from pytorch_lightning import Trainer\n",
    "\n",
    "from gnn_tracking.metrics.losses import PotentialLoss, BackgroundLoss\n",
    "import torch\n",
    "from functools import partial\n",
    "\n",
    "from gnn_tracking.training.callbacks import PrintValidationMetrics\n",
    "from gnn_tracking.training.tc import TCModule\n",
    "from gnn_tracking.utils.loading import TrackingDataModule"
   ],
   "metadata": {
    "collapsed": false
   }
  },
  {
   "cell_type": "markdown",
   "source": [
    "## 1. Configure data"
   ],
   "metadata": {
    "collapsed": false
   }
  },
  {
   "cell_type": "code",
   "execution_count": 2,
   "outputs": [],
   "source": [
    "dm = TrackingDataModule(\n",
    "    train=dict(\n",
    "        dirs=[\"/Users/fuchur/tmp/truth_cut_graphs_for_gsoc/part_1_0/\"],\n",
    "        stop=5,\n",
    "    ),\n",
    "    val=dict(\n",
    "        dirs=[\"/Users/fuchur/tmp/truth_cut_graphs_for_gsoc/part_1_0/\"],\n",
    "        start=5,\n",
    "        stop=10,\n",
    "    ),\n",
    "    # could also configure a 'test' set here\n",
    ")"
   ],
   "metadata": {
    "collapsed": false
   }
  },
  {
   "cell_type": "markdown",
   "source": [
    "## 2. Write a model"
   ],
   "metadata": {
    "collapsed": false
   }
  },
  {
   "cell_type": "code",
   "execution_count": 3,
   "outputs": [],
   "source": [
    "class DemoGravNet(nn.Module, HyperparametersMixin):\n",
    "    def __init__(self, in_dim: int = 14, depth: int = 1, k: int = 2):\n",
    "        super().__init__()\n",
    "        self.save_hyperparameters()\n",
    "        layers = [\n",
    "            GravNetConv(\n",
    "                in_channels=in_dim,\n",
    "                out_channels=in_dim,\n",
    "                space_dimensions=3,\n",
    "                propagate_dimensions=3,\n",
    "                k=k,\n",
    "            )\n",
    "            for _ in range(depth)\n",
    "        ]\n",
    "        self._embedding = nn.Sequential(*layers)\n",
    "        self._beta = nn.Sequential(\n",
    "            nn.Linear(in_dim, 1),\n",
    "            nn.Sigmoid(),\n",
    "        )\n",
    "\n",
    "    def forward(self, data: Data):\n",
    "        latent = self._embedding(data.x)\n",
    "        beta = self._beta(latent).squeeze()\n",
    "        eps = 1e-6\n",
    "        beta = beta.clamp(eps, 1 - eps)\n",
    "        return {\n",
    "            \"B\": beta,\n",
    "            \"H\": latent,\n",
    "        }"
   ],
   "metadata": {
    "collapsed": false
   }
  },
  {
   "cell_type": "code",
   "execution_count": 4,
   "outputs": [],
   "source": [
    "model = DemoGravNet()"
   ],
   "metadata": {
    "collapsed": false
   }
  },
  {
   "cell_type": "markdown",
   "source": [
    "## 3. Configure loss functions and weights"
   ],
   "metadata": {
    "collapsed": false
   }
  },
  {
   "cell_type": "code",
   "execution_count": 10,
   "outputs": [],
   "source": [
    "# The loss functions can be memory hungry. Here we override `data_preproc` to place a tighter pt cut on\n",
    "# the data to easy computation (since this is just a demo).\n",
    "class PtCut(HyperparametersMixin):\n",
    "    def __call__(self, data: Data):\n",
    "        mask = data.pt > 4\n",
    "        data = data.subgraph(mask)\n",
    "        return data"
   ],
   "metadata": {
    "collapsed": false
   }
  },
  {
   "cell_type": "code",
   "execution_count": 12,
   "outputs": [
    {
     "name": "stderr",
     "output_type": "stream",
     "text": [
      "\u001B[36m[15:06:34] DEBUG: Got obj of type <class '__main__.DemoGravNet'>, assuming I have to save hyperparameters\u001B[0m\n",
      "\u001B[36m[15:06:34] DEBUG: Saving hyperperameters {'class_path': '__main__.DemoGravNet', 'init_args': {'in_dim': 14, 'depth': 1, 'k': 2}}\u001B[0m\n",
      "\u001B[36m[15:06:34] DEBUG: Got obj of type <class '__main__.PtCut'>, assuming I have to save hyperparameters\u001B[0m\n",
      "\u001B[36m[15:06:34] DEBUG: Saving hyperperameters {'class_path': '__main__.PtCut', 'init_args': {}}\u001B[0m\n",
      "\u001B[36m[15:06:34] DEBUG: Got obj of type <class 'gnn_tracking.metrics.losses.PotentialLoss'>, assuming I have to save hyperparameters\u001B[0m\n",
      "\u001B[36m[15:06:34] DEBUG: Saving hyperperameters {'class_path': 'gnn_tracking.metrics.losses.PotentialLoss', 'init_args': {'q_min': 0.01, 'radius_threshold': 1.0, 'attr_pt_thld': 0.9}}\u001B[0m\n",
      "\u001B[36m[15:06:34] DEBUG: Got obj of type <class 'gnn_tracking.metrics.losses.BackgroundLoss'>, assuming I have to save hyperparameters\u001B[0m\n",
      "\u001B[36m[15:06:34] DEBUG: Saving hyperperameters {'class_path': 'gnn_tracking.metrics.losses.BackgroundLoss', 'init_args': {'sb': 0.1}}\u001B[0m\n",
      "\u001B[36m[15:06:34] DEBUG: Got obj of type <class 'gnn_tracking.postprocessing.dbscanscanner.DBSCANHyperParamScanner'>, assuming I have to save hyperparameters\u001B[0m\n",
      "\u001B[36m[15:06:34] DEBUG: Saving hyperperameters {'class_path': 'gnn_tracking.postprocessing.dbscanscanner.DBSCANHyperParamScanner', 'init_args': {'eps_range': (1e-05, 1.0), 'min_samples_range': (1, 3), 'n_trials': 5, 'n_jobs': 1, 'guide': 'trk.double_majority_pt0.9'}}\u001B[0m\n"
     ]
    }
   ],
   "source": [
    "from gnn_tracking.postprocessing.dbscanscanner import DBSCANHyperParamScanner\n",
    "\n",
    "# TC for track condensation\n",
    "lmodel = TCModule(\n",
    "    model=model,\n",
    "    potential_loss=PotentialLoss(\n",
    "        radius_threshold=1.0,\n",
    "    ),\n",
    "    background_loss=BackgroundLoss(),\n",
    "    lw_repulsive=2.0,\n",
    "    lw_background=0.1,\n",
    "    optimizer=partial(torch.optim.Adam, lr=1e-4),\n",
    "    cluster_scanner=DBSCANHyperParamScanner(n_trials=5, n_jobs=1),\n",
    "    preproc=PtCut(),\n",
    ")"
   ],
   "metadata": {
    "collapsed": false
   }
  },
  {
   "cell_type": "markdown",
   "source": [
    "## 4. Train the model"
   ],
   "metadata": {
    "collapsed": false
   }
  },
  {
   "cell_type": "code",
   "execution_count": 13,
   "outputs": [
    {
     "name": "stderr",
     "output_type": "stream",
     "text": [
      "GPU available: True (mps), used: False\n",
      "TPU available: False, using: 0 TPU cores\n",
      "IPU available: False, using: 0 IPUs\n",
      "HPU available: False, using: 0 HPUs\n",
      "/Users/fuchur/micromamba/envs/gnn/lib/python3.11/site-packages/pytorch_lightning/trainer/setup.py:201: UserWarning: MPS available but not used. Set `accelerator` and `devices` using `Trainer(accelerator='mps', devices=1)`.\n",
      "  rank_zero_warn(\n",
      "\u001B[32m[15:06:36] INFO: DataLoader will load 5 graphs (out of 90 available).\u001B[0m\n",
      "\u001B[36m[15:06:36] DEBUG: First graph is /Users/fuchur/tmp/truth_cut_graphs_for_gsoc/part_1_0/data21025_s0.pt, last graph is /Users/fuchur/tmp/truth_cut_graphs_for_gsoc/part_1_0/data21053_s0.pt\u001B[0m\n",
      "\u001B[32m[15:06:36] INFO: DataLoader will load 5 graphs (out of 90 available).\u001B[0m\n",
      "\u001B[36m[15:06:36] DEBUG: First graph is /Users/fuchur/tmp/truth_cut_graphs_for_gsoc/part_1_0/data21058_s0.pt, last graph is /Users/fuchur/tmp/truth_cut_graphs_for_gsoc/part_1_0/data21094_s0.pt\u001B[0m\n",
      "\n",
      "  | Name            | Type           | Params\n",
      "---------------------------------------------------\n",
      "0 | model           | DemoGravNet    | 399   \n",
      "1 | potential_loss  | PotentialLoss  | 0     \n",
      "2 | background_loss | BackgroundLoss | 0     \n",
      "---------------------------------------------------\n",
      "399       Trainable params\n",
      "0         Non-trainable params\n",
      "399       Total params\n",
      "0.002     Total estimated model params size (MB)\n"
     ]
    },
    {
     "data": {
      "text/plain": "Sanity Checking: 0it [00:00, ?it/s]",
      "application/vnd.jupyter.widget-view+json": {
       "version_major": 2,
       "version_minor": 0,
       "model_id": "2e299cf6d96543c28bf2f85f6fa7f7d1"
      }
     },
     "metadata": {},
     "output_type": "display_data"
    },
    {
     "name": "stderr",
     "output_type": "stream",
     "text": [
      "/Users/fuchur/micromamba/envs/gnn/lib/python3.11/site-packages/pytorch_lightning/trainer/connectors/data_connector.py:432: PossibleUserWarning: The dataloader, val_dataloader, does not have many workers which may be a bottleneck. Consider increasing the value of the `num_workers` argument` (try 10 which is the number of cpus on this machine) in the `DataLoader` init to improve performance.\n",
      "  rank_zero_warn(\n"
     ]
    },
    {
     "data": {
      "text/plain": "\n\n",
      "text/html": "<pre style=\"white-space:pre;overflow-x:auto;line-height:normal;font-family:Menlo,'DejaVu Sans Mono',consolas,'Courier New',monospace\">\n\n</pre>\n"
     },
     "metadata": {},
     "output_type": "display_data"
    },
    {
     "data": {
      "text/plain": "\u001B[3m                   Validation epoch=0                   \u001B[0m\n┏━━━━━━━━━━━━━━━━━━━━━┳━━━━━━━━━━━━━━━━┳━━━━━━━━━━━━━━━┓\n┃\u001B[1m \u001B[0m\u001B[1mMetric             \u001B[0m\u001B[1m \u001B[0m┃\u001B[1m \u001B[0m\u001B[1m         Value\u001B[0m\u001B[1m \u001B[0m┃\u001B[1m \u001B[0m\u001B[1m        Error\u001B[0m\u001B[1m \u001B[0m┃\n┡━━━━━━━━━━━━━━━━━━━━━╇━━━━━━━━━━━━━━━━╇━━━━━━━━━━━━━━━┩\n│\u001B[1;95m \u001B[0m\u001B[1;95mattractive         \u001B[0m\u001B[1;95m \u001B[0m│\u001B[1;95m \u001B[0m\u001B[1;95m13405383.00000\u001B[0m\u001B[1;95m \u001B[0m│\u001B[1;95m \u001B[0m\u001B[1;95m6558321.50000\u001B[0m\u001B[1;95m \u001B[0m│\n│ attractive_weighted │ 13405383.00000 │ 6558321.50000 │\n│ background          │        0.65469 │       0.11550 │\n│ background_weighted │        0.06547 │       0.01155 │\n│\u001B[1;95m \u001B[0m\u001B[1;95mrepulsive          \u001B[0m\u001B[1;95m \u001B[0m│\u001B[1;95m \u001B[0m\u001B[1;95m       0.03030\u001B[0m\u001B[1;95m \u001B[0m│\u001B[1;95m \u001B[0m\u001B[1;95m      0.03342\u001B[0m\u001B[1;95m \u001B[0m│\n│ repulsive_weighted  │        0.06060 │       0.06684 │\n│ total               │ 13405383.00000 │ 6558321.50000 │\n└─────────────────────┴────────────────┴───────────────┘\n",
      "text/html": "<pre style=\"white-space:pre;overflow-x:auto;line-height:normal;font-family:Menlo,'DejaVu Sans Mono',consolas,'Courier New',monospace\"><span style=\"font-style: italic\">                   Validation epoch=0                   </span>\n┏━━━━━━━━━━━━━━━━━━━━━┳━━━━━━━━━━━━━━━━┳━━━━━━━━━━━━━━━┓\n┃<span style=\"font-weight: bold\"> Metric              </span>┃<span style=\"font-weight: bold\">          Value </span>┃<span style=\"font-weight: bold\">         Error </span>┃\n┡━━━━━━━━━━━━━━━━━━━━━╇━━━━━━━━━━━━━━━━╇━━━━━━━━━━━━━━━┩\n│<span style=\"color: #ff00ff; text-decoration-color: #ff00ff; font-weight: bold\"> attractive          </span>│<span style=\"color: #ff00ff; text-decoration-color: #ff00ff; font-weight: bold\"> 13405383.00000 </span>│<span style=\"color: #ff00ff; text-decoration-color: #ff00ff; font-weight: bold\"> 6558321.50000 </span>│\n│ attractive_weighted │ 13405383.00000 │ 6558321.50000 │\n│ background          │        0.65469 │       0.11550 │\n│ background_weighted │        0.06547 │       0.01155 │\n│<span style=\"color: #ff00ff; text-decoration-color: #ff00ff; font-weight: bold\"> repulsive           </span>│<span style=\"color: #ff00ff; text-decoration-color: #ff00ff; font-weight: bold\">        0.03030 </span>│<span style=\"color: #ff00ff; text-decoration-color: #ff00ff; font-weight: bold\">       0.03342 </span>│\n│ repulsive_weighted  │        0.06060 │       0.06684 │\n│ total               │ 13405383.00000 │ 6558321.50000 │\n└─────────────────────┴────────────────┴───────────────┘\n</pre>\n"
     },
     "metadata": {},
     "output_type": "display_data"
    },
    {
     "name": "stderr",
     "output_type": "stream",
     "text": [
      "/Users/fuchur/micromamba/envs/gnn/lib/python3.11/site-packages/pytorch_lightning/trainer/connectors/data_connector.py:432: PossibleUserWarning: The dataloader, train_dataloader, does not have many workers which may be a bottleneck. Consider increasing the value of the `num_workers` argument` (try 10 which is the number of cpus on this machine) in the `DataLoader` init to improve performance.\n",
      "  rank_zero_warn(\n"
     ]
    },
    {
     "data": {
      "text/plain": "Training: 0it [00:00, ?it/s]",
      "application/vnd.jupyter.widget-view+json": {
       "version_major": 2,
       "version_minor": 0,
       "model_id": "fdc005994fd340c2a47b4daf2a01accc"
      }
     },
     "metadata": {},
     "output_type": "display_data"
    },
    {
     "data": {
      "text/plain": "Validation: 0it [00:00, ?it/s]",
      "application/vnd.jupyter.widget-view+json": {
       "version_major": 2,
       "version_minor": 0,
       "model_id": "bc9168226dfb40d9a1e7a969f75445c2"
      }
     },
     "metadata": {},
     "output_type": "display_data"
    },
    {
     "name": "stderr",
     "output_type": "stream",
     "text": [
      "\u001B[36m[15:06:51 ClusterHP] DEBUG: Starting from params: {}\u001B[0m\n",
      "\u001B[32m[15:06:51 ClusterHP] INFO: Starting hyperparameter scan for clustering\u001B[0m\n",
      "/Users/fuchur/Documents/22/git_sync/gnn_tracking/src/gnn_tracking/utils/math.py:4: RuntimeWarning: invalid value encountered in scalar divide\n",
      "  return a / b\n",
      "/Users/fuchur/Documents/22/git_sync/gnn_tracking/src/gnn_tracking/utils/math.py:4: RuntimeWarning: invalid value encountered in scalar divide\n",
      "  return a / b\n",
      "/Users/fuchur/Documents/22/git_sync/gnn_tracking/src/gnn_tracking/utils/math.py:4: RuntimeWarning: invalid value encountered in scalar divide\n",
      "  return a / b\n",
      "/Users/fuchur/Documents/22/git_sync/gnn_tracking/src/gnn_tracking/utils/math.py:4: RuntimeWarning: invalid value encountered in scalar divide\n",
      "  return a / b\n",
      "/Users/fuchur/Documents/22/git_sync/gnn_tracking/src/gnn_tracking/utils/math.py:4: RuntimeWarning: invalid value encountered in scalar divide\n",
      "  return a / b\n",
      "/Users/fuchur/Documents/22/git_sync/gnn_tracking/src/gnn_tracking/utils/math.py:4: RuntimeWarning: invalid value encountered in scalar divide\n",
      "  return a / b\n",
      "/Users/fuchur/Documents/22/git_sync/gnn_tracking/src/gnn_tracking/utils/math.py:4: RuntimeWarning: invalid value encountered in scalar divide\n",
      "  return a / b\n",
      "/Users/fuchur/Documents/22/git_sync/gnn_tracking/src/gnn_tracking/utils/math.py:4: RuntimeWarning: invalid value encountered in scalar divide\n",
      "  return a / b\n",
      "/Users/fuchur/Documents/22/git_sync/gnn_tracking/src/gnn_tracking/utils/math.py:4: RuntimeWarning: invalid value encountered in scalar divide\n",
      "  return a / b\n",
      "/Users/fuchur/Documents/22/git_sync/gnn_tracking/src/gnn_tracking/utils/math.py:4: RuntimeWarning: invalid value encountered in scalar divide\n",
      "  return a / b\n",
      "/Users/fuchur/Documents/22/git_sync/gnn_tracking/src/gnn_tracking/utils/math.py:4: RuntimeWarning: invalid value encountered in scalar divide\n",
      "  return a / b\n",
      "/Users/fuchur/Documents/22/git_sync/gnn_tracking/src/gnn_tracking/utils/math.py:4: RuntimeWarning: invalid value encountered in scalar divide\n",
      "  return a / b\n",
      "/Users/fuchur/Documents/22/git_sync/gnn_tracking/src/gnn_tracking/utils/math.py:4: RuntimeWarning: invalid value encountered in scalar divide\n",
      "  return a / b\n",
      "/Users/fuchur/Documents/22/git_sync/gnn_tracking/src/gnn_tracking/utils/math.py:4: RuntimeWarning: invalid value encountered in scalar divide\n",
      "  return a / b\n",
      "/Users/fuchur/Documents/22/git_sync/gnn_tracking/src/gnn_tracking/utils/math.py:4: RuntimeWarning: invalid value encountered in scalar divide\n",
      "  return a / b\n",
      "/Users/fuchur/Documents/22/git_sync/gnn_tracking/src/gnn_tracking/utils/math.py:4: RuntimeWarning: invalid value encountered in scalar divide\n",
      "  return a / b\n",
      "/Users/fuchur/Documents/22/git_sync/gnn_tracking/src/gnn_tracking/utils/math.py:4: RuntimeWarning: invalid value encountered in scalar divide\n",
      "  return a / b\n",
      "/Users/fuchur/Documents/22/git_sync/gnn_tracking/src/gnn_tracking/utils/math.py:4: RuntimeWarning: invalid value encountered in scalar divide\n",
      "  return a / b\n",
      "/Users/fuchur/Documents/22/git_sync/gnn_tracking/src/gnn_tracking/utils/math.py:4: RuntimeWarning: invalid value encountered in scalar divide\n",
      "  return a / b\n",
      "/Users/fuchur/Documents/22/git_sync/gnn_tracking/src/gnn_tracking/utils/math.py:4: RuntimeWarning: invalid value encountered in scalar divide\n",
      "  return a / b\n",
      "/Users/fuchur/Documents/22/git_sync/gnn_tracking/src/gnn_tracking/utils/math.py:4: RuntimeWarning: invalid value encountered in scalar divide\n",
      "  return a / b\n",
      "/Users/fuchur/Documents/22/git_sync/gnn_tracking/src/gnn_tracking/utils/math.py:4: RuntimeWarning: invalid value encountered in scalar divide\n",
      "  return a / b\n",
      "/Users/fuchur/Documents/22/git_sync/gnn_tracking/src/gnn_tracking/utils/math.py:4: RuntimeWarning: invalid value encountered in scalar divide\n",
      "  return a / b\n",
      "/Users/fuchur/Documents/22/git_sync/gnn_tracking/src/gnn_tracking/utils/math.py:4: RuntimeWarning: invalid value encountered in scalar divide\n",
      "  return a / b\n",
      "/Users/fuchur/Documents/22/git_sync/gnn_tracking/src/gnn_tracking/utils/math.py:4: RuntimeWarning: invalid value encountered in scalar divide\n",
      "  return a / b\n",
      "/Users/fuchur/Documents/22/git_sync/gnn_tracking/src/gnn_tracking/utils/math.py:4: RuntimeWarning: invalid value encountered in scalar divide\n",
      "  return a / b\n",
      "/Users/fuchur/Documents/22/git_sync/gnn_tracking/src/gnn_tracking/utils/math.py:4: RuntimeWarning: invalid value encountered in scalar divide\n",
      "  return a / b\n",
      "/Users/fuchur/Documents/22/git_sync/gnn_tracking/src/gnn_tracking/utils/math.py:4: RuntimeWarning: invalid value encountered in scalar divide\n",
      "  return a / b\n",
      "/Users/fuchur/Documents/22/git_sync/gnn_tracking/src/gnn_tracking/utils/math.py:4: RuntimeWarning: invalid value encountered in scalar divide\n",
      "  return a / b\n",
      "/Users/fuchur/Documents/22/git_sync/gnn_tracking/src/gnn_tracking/utils/math.py:4: RuntimeWarning: invalid value encountered in scalar divide\n",
      "  return a / b\n",
      "/Users/fuchur/Documents/22/git_sync/gnn_tracking/src/gnn_tracking/utils/math.py:4: RuntimeWarning: invalid value encountered in scalar divide\n",
      "  return a / b\n",
      "/Users/fuchur/Documents/22/git_sync/gnn_tracking/src/gnn_tracking/utils/math.py:4: RuntimeWarning: invalid value encountered in scalar divide\n",
      "  return a / b\n",
      "/Users/fuchur/Documents/22/git_sync/gnn_tracking/src/gnn_tracking/utils/math.py:4: RuntimeWarning: invalid value encountered in scalar divide\n",
      "  return a / b\n",
      "/Users/fuchur/Documents/22/git_sync/gnn_tracking/src/gnn_tracking/utils/math.py:4: RuntimeWarning: invalid value encountered in scalar divide\n",
      "  return a / b\n",
      "/Users/fuchur/Documents/22/git_sync/gnn_tracking/src/gnn_tracking/utils/math.py:4: RuntimeWarning: invalid value encountered in scalar divide\n",
      "  return a / b\n",
      "/Users/fuchur/Documents/22/git_sync/gnn_tracking/src/gnn_tracking/utils/math.py:4: RuntimeWarning: invalid value encountered in scalar divide\n",
      "  return a / b\n",
      "/Users/fuchur/Documents/22/git_sync/gnn_tracking/src/gnn_tracking/utils/math.py:4: RuntimeWarning: invalid value encountered in scalar divide\n",
      "  return a / b\n",
      "/Users/fuchur/Documents/22/git_sync/gnn_tracking/src/gnn_tracking/utils/math.py:4: RuntimeWarning: invalid value encountered in scalar divide\n",
      "  return a / b\n",
      "/Users/fuchur/Documents/22/git_sync/gnn_tracking/src/gnn_tracking/utils/math.py:4: RuntimeWarning: invalid value encountered in scalar divide\n",
      "  return a / b\n",
      "/Users/fuchur/Documents/22/git_sync/gnn_tracking/src/gnn_tracking/utils/math.py:4: RuntimeWarning: invalid value encountered in scalar divide\n",
      "  return a / b\n",
      "/Users/fuchur/Documents/22/git_sync/gnn_tracking/src/gnn_tracking/utils/math.py:4: RuntimeWarning: invalid value encountered in scalar divide\n",
      "  return a / b\n",
      "/Users/fuchur/Documents/22/git_sync/gnn_tracking/src/gnn_tracking/utils/math.py:4: RuntimeWarning: invalid value encountered in scalar divide\n",
      "  return a / b\n",
      "/Users/fuchur/Documents/22/git_sync/gnn_tracking/src/gnn_tracking/utils/math.py:4: RuntimeWarning: invalid value encountered in scalar divide\n",
      "  return a / b\n",
      "/Users/fuchur/Documents/22/git_sync/gnn_tracking/src/gnn_tracking/utils/math.py:4: RuntimeWarning: invalid value encountered in scalar divide\n",
      "  return a / b\n",
      "/Users/fuchur/Documents/22/git_sync/gnn_tracking/src/gnn_tracking/utils/math.py:4: RuntimeWarning: invalid value encountered in scalar divide\n",
      "  return a / b\n",
      "/Users/fuchur/Documents/22/git_sync/gnn_tracking/src/gnn_tracking/utils/math.py:4: RuntimeWarning: invalid value encountered in scalar divide\n",
      "  return a / b\n",
      "/Users/fuchur/Documents/22/git_sync/gnn_tracking/src/gnn_tracking/utils/math.py:4: RuntimeWarning: invalid value encountered in scalar divide\n",
      "  return a / b\n",
      "/Users/fuchur/Documents/22/git_sync/gnn_tracking/src/gnn_tracking/utils/math.py:4: RuntimeWarning: invalid value encountered in scalar divide\n",
      "  return a / b\n",
      "/Users/fuchur/Documents/22/git_sync/gnn_tracking/src/gnn_tracking/utils/math.py:4: RuntimeWarning: invalid value encountered in scalar divide\n",
      "  return a / b\n",
      "/Users/fuchur/Documents/22/git_sync/gnn_tracking/src/gnn_tracking/utils/math.py:4: RuntimeWarning: invalid value encountered in scalar divide\n",
      "  return a / b\n",
      "/Users/fuchur/Documents/22/git_sync/gnn_tracking/src/gnn_tracking/utils/math.py:4: RuntimeWarning: invalid value encountered in scalar divide\n",
      "  return a / b\n",
      "/Users/fuchur/Documents/22/git_sync/gnn_tracking/src/gnn_tracking/utils/math.py:4: RuntimeWarning: invalid value encountered in scalar divide\n",
      "  return a / b\n",
      "/Users/fuchur/Documents/22/git_sync/gnn_tracking/src/gnn_tracking/utils/math.py:4: RuntimeWarning: invalid value encountered in scalar divide\n",
      "  return a / b\n",
      "/Users/fuchur/Documents/22/git_sync/gnn_tracking/src/gnn_tracking/utils/math.py:4: RuntimeWarning: invalid value encountered in scalar divide\n",
      "  return a / b\n",
      "/Users/fuchur/Documents/22/git_sync/gnn_tracking/src/gnn_tracking/utils/math.py:4: RuntimeWarning: invalid value encountered in scalar divide\n",
      "  return a / b\n",
      "/Users/fuchur/Documents/22/git_sync/gnn_tracking/src/gnn_tracking/utils/math.py:4: RuntimeWarning: invalid value encountered in scalar divide\n",
      "  return a / b\n",
      "/Users/fuchur/Documents/22/git_sync/gnn_tracking/src/gnn_tracking/utils/math.py:4: RuntimeWarning: invalid value encountered in scalar divide\n",
      "  return a / b\n",
      "/Users/fuchur/Documents/22/git_sync/gnn_tracking/src/gnn_tracking/utils/math.py:4: RuntimeWarning: invalid value encountered in scalar divide\n",
      "  return a / b\n",
      "/Users/fuchur/Documents/22/git_sync/gnn_tracking/src/gnn_tracking/utils/math.py:4: RuntimeWarning: invalid value encountered in scalar divide\n",
      "  return a / b\n",
      "/Users/fuchur/Documents/22/git_sync/gnn_tracking/src/gnn_tracking/utils/math.py:4: RuntimeWarning: invalid value encountered in scalar divide\n",
      "  return a / b\n",
      "/Users/fuchur/Documents/22/git_sync/gnn_tracking/src/gnn_tracking/utils/math.py:4: RuntimeWarning: invalid value encountered in scalar divide\n",
      "  return a / b\n",
      "/Users/fuchur/Documents/22/git_sync/gnn_tracking/src/gnn_tracking/utils/math.py:4: RuntimeWarning: invalid value encountered in scalar divide\n",
      "  return a / b\n",
      "/Users/fuchur/Documents/22/git_sync/gnn_tracking/src/gnn_tracking/utils/math.py:4: RuntimeWarning: invalid value encountered in scalar divide\n",
      "  return a / b\n",
      "/Users/fuchur/Documents/22/git_sync/gnn_tracking/src/gnn_tracking/utils/math.py:4: RuntimeWarning: invalid value encountered in scalar divide\n",
      "  return a / b\n",
      "/Users/fuchur/Documents/22/git_sync/gnn_tracking/src/gnn_tracking/utils/math.py:4: RuntimeWarning: invalid value encountered in scalar divide\n",
      "  return a / b\n",
      "/Users/fuchur/Documents/22/git_sync/gnn_tracking/src/gnn_tracking/utils/math.py:4: RuntimeWarning: invalid value encountered in scalar divide\n",
      "  return a / b\n",
      "/Users/fuchur/Documents/22/git_sync/gnn_tracking/src/gnn_tracking/utils/math.py:4: RuntimeWarning: invalid value encountered in scalar divide\n",
      "  return a / b\n",
      "/Users/fuchur/Documents/22/git_sync/gnn_tracking/src/gnn_tracking/utils/math.py:4: RuntimeWarning: invalid value encountered in scalar divide\n",
      "  return a / b\n",
      "/Users/fuchur/Documents/22/git_sync/gnn_tracking/src/gnn_tracking/utils/math.py:4: RuntimeWarning: invalid value encountered in scalar divide\n",
      "  return a / b\n",
      "/Users/fuchur/Documents/22/git_sync/gnn_tracking/src/gnn_tracking/utils/math.py:4: RuntimeWarning: invalid value encountered in scalar divide\n",
      "  return a / b\n",
      "/Users/fuchur/Documents/22/git_sync/gnn_tracking/src/gnn_tracking/utils/math.py:4: RuntimeWarning: invalid value encountered in scalar divide\n",
      "  return a / b\n",
      "/Users/fuchur/Documents/22/git_sync/gnn_tracking/src/gnn_tracking/utils/math.py:4: RuntimeWarning: invalid value encountered in scalar divide\n",
      "  return a / b\n",
      "/Users/fuchur/Documents/22/git_sync/gnn_tracking/src/gnn_tracking/utils/math.py:4: RuntimeWarning: invalid value encountered in scalar divide\n",
      "  return a / b\n",
      "/Users/fuchur/Documents/22/git_sync/gnn_tracking/src/gnn_tracking/utils/math.py:4: RuntimeWarning: invalid value encountered in scalar divide\n",
      "  return a / b\n",
      "/Users/fuchur/Documents/22/git_sync/gnn_tracking/src/gnn_tracking/utils/math.py:4: RuntimeWarning: invalid value encountered in scalar divide\n",
      "  return a / b\n",
      "/Users/fuchur/Documents/22/git_sync/gnn_tracking/src/gnn_tracking/utils/math.py:4: RuntimeWarning: invalid value encountered in scalar divide\n",
      "  return a / b\n",
      "/Users/fuchur/Documents/22/git_sync/gnn_tracking/src/gnn_tracking/utils/math.py:4: RuntimeWarning: invalid value encountered in scalar divide\n",
      "  return a / b\n",
      "/Users/fuchur/Documents/22/git_sync/gnn_tracking/src/gnn_tracking/utils/math.py:4: RuntimeWarning: invalid value encountered in scalar divide\n",
      "  return a / b\n",
      "/Users/fuchur/Documents/22/git_sync/gnn_tracking/src/gnn_tracking/utils/math.py:4: RuntimeWarning: invalid value encountered in scalar divide\n",
      "  return a / b\n",
      "/Users/fuchur/Documents/22/git_sync/gnn_tracking/src/gnn_tracking/utils/math.py:4: RuntimeWarning: invalid value encountered in scalar divide\n",
      "  return a / b\n",
      "/Users/fuchur/Documents/22/git_sync/gnn_tracking/src/gnn_tracking/utils/math.py:4: RuntimeWarning: invalid value encountered in scalar divide\n",
      "  return a / b\n",
      "/Users/fuchur/Documents/22/git_sync/gnn_tracking/src/gnn_tracking/utils/math.py:4: RuntimeWarning: invalid value encountered in scalar divide\n",
      "  return a / b\n",
      "/Users/fuchur/Documents/22/git_sync/gnn_tracking/src/gnn_tracking/utils/math.py:4: RuntimeWarning: invalid value encountered in scalar divide\n",
      "  return a / b\n",
      "/Users/fuchur/Documents/22/git_sync/gnn_tracking/src/gnn_tracking/utils/math.py:4: RuntimeWarning: invalid value encountered in scalar divide\n",
      "  return a / b\n",
      "\u001B[36m[15:06:51 ClusterHP] DEBUG: Evaluating all metrics for best clustering\u001B[0m\n",
      "/Users/fuchur/Documents/22/git_sync/gnn_tracking/src/gnn_tracking/utils/math.py:4: RuntimeWarning: invalid value encountered in scalar divide\n",
      "  return a / b\n",
      "/Users/fuchur/Documents/22/git_sync/gnn_tracking/src/gnn_tracking/utils/math.py:4: RuntimeWarning: invalid value encountered in scalar divide\n",
      "  return a / b\n",
      "/Users/fuchur/Documents/22/git_sync/gnn_tracking/src/gnn_tracking/utils/math.py:4: RuntimeWarning: invalid value encountered in scalar divide\n",
      "  return a / b\n",
      "/Users/fuchur/Documents/22/git_sync/gnn_tracking/src/gnn_tracking/utils/math.py:4: RuntimeWarning: invalid value encountered in scalar divide\n",
      "  return a / b\n",
      "/Users/fuchur/Documents/22/git_sync/gnn_tracking/src/gnn_tracking/utils/math.py:4: RuntimeWarning: invalid value encountered in scalar divide\n",
      "  return a / b\n",
      "/Users/fuchur/Documents/22/git_sync/gnn_tracking/src/gnn_tracking/utils/math.py:4: RuntimeWarning: invalid value encountered in scalar divide\n",
      "  return a / b\n",
      "/Users/fuchur/Documents/22/git_sync/gnn_tracking/src/gnn_tracking/utils/math.py:4: RuntimeWarning: invalid value encountered in scalar divide\n",
      "  return a / b\n",
      "/Users/fuchur/Documents/22/git_sync/gnn_tracking/src/gnn_tracking/utils/math.py:4: RuntimeWarning: invalid value encountered in scalar divide\n",
      "  return a / b\n",
      "\u001B[36m[15:06:51 ClusterHP] DEBUG: Evaluating metrics took 0.071041 seconds: Clustering time: 0.006795, total metric eval: 0.064028, individual: v_measure: 0.004438498988747597, homogeneity: 0.00367837306112051, completeness: 0.0035836671013385057, trk: 0.04648687387816608, adjusted_rand: 0.003371332073584199, fowlkes_mallows: 0.002468791790306568\u001B[0m\n",
      "\u001B[36m[15:06:51 ClusterHP] DEBUG: Variance among 5 trials is 0.004890. Min/max: 0.000000/0.008929\u001B[0m\n",
      "\u001B[32m[15:06:51 ClusterHP] INFO: Clustering hyperparameter scan & metric evaluation took 0.35 seconds\u001B[0m\n",
      "NaN or Inf found in input tensor.\n",
      "NaN or Inf found in input tensor.\n",
      "NaN or Inf found in input tensor.\n",
      "NaN or Inf found in input tensor.\n",
      "NaN or Inf found in input tensor.\n",
      "NaN or Inf found in input tensor.\n",
      "NaN or Inf found in input tensor.\n",
      "NaN or Inf found in input tensor.\n",
      "NaN or Inf found in input tensor.\n",
      "NaN or Inf found in input tensor.\n",
      "NaN or Inf found in input tensor.\n",
      "NaN or Inf found in input tensor.\n",
      "NaN or Inf found in input tensor.\n",
      "NaN or Inf found in input tensor.\n",
      "NaN or Inf found in input tensor.\n",
      "NaN or Inf found in input tensor.\n",
      "NaN or Inf found in input tensor.\n",
      "NaN or Inf found in input tensor.\n",
      "NaN or Inf found in input tensor.\n",
      "NaN or Inf found in input tensor.\n",
      "NaN or Inf found in input tensor.\n",
      "NaN or Inf found in input tensor.\n",
      "NaN or Inf found in input tensor.\n",
      "NaN or Inf found in input tensor.\n",
      "NaN or Inf found in input tensor.\n",
      "NaN or Inf found in input tensor.\n",
      "NaN or Inf found in input tensor.\n",
      "NaN or Inf found in input tensor.\n",
      "NaN or Inf found in input tensor.\n",
      "NaN or Inf found in input tensor.\n",
      "NaN or Inf found in input tensor.\n",
      "NaN or Inf found in input tensor.\n",
      "NaN or Inf found in input tensor.\n",
      "NaN or Inf found in input tensor.\n",
      "NaN or Inf found in input tensor.\n",
      "NaN or Inf found in input tensor.\n",
      "NaN or Inf found in input tensor.\n",
      "NaN or Inf found in input tensor.\n",
      "NaN or Inf found in input tensor.\n"
     ]
    },
    {
     "data": {
      "text/plain": "\n\n",
      "text/html": "<pre style=\"white-space:pre;overflow-x:auto;line-height:normal;font-family:Menlo,'DejaVu Sans Mono',consolas,'Courier New',monospace\">\n\n</pre>\n"
     },
     "metadata": {},
     "output_type": "display_data"
    },
    {
     "data": {
      "text/plain": "\u001B[3m                        Validation epoch=0                         \u001B[0m\n┏━━━━━━━━━━━━━━━━━━━━━━━━━━━━━━━━┳━━━━━━━━━━━━━━━━┳━━━━━━━━━━━━━━━┓\n┃\u001B[1m \u001B[0m\u001B[1mMetric                        \u001B[0m\u001B[1m \u001B[0m┃\u001B[1m \u001B[0m\u001B[1m         Value\u001B[0m\u001B[1m \u001B[0m┃\u001B[1m \u001B[0m\u001B[1m        Error\u001B[0m\u001B[1m \u001B[0m┃\n┡━━━━━━━━━━━━━━━━━━━━━━━━━━━━━━━━╇━━━━━━━━━━━━━━━━╇━━━━━━━━━━━━━━━┩\n│ adjusted_rand                  │        0.02026 │       0.01163 │\n│\u001B[1;95m \u001B[0m\u001B[1;95mattractive                    \u001B[0m\u001B[1;95m \u001B[0m│\u001B[1;95m \u001B[0m\u001B[1;95m21853480.00000\u001B[0m\u001B[1;95m \u001B[0m│\u001B[1;95m \u001B[0m\u001B[1;95m7339746.00000\u001B[0m\u001B[1;95m \u001B[0m│\n│ attractive_weighted            │ 21853480.00000 │ 7339746.00000 │\n│ background                     │        0.58068 │       0.06895 │\n│ background_weighted            │        0.05807 │       0.00690 │\n│ best_dbscan_eps                │        0.70959 │           nan │\n│ best_dbscan_min_samples        │        1.00000 │           nan │\n│ completeness                   │        0.64601 │       0.01496 │\n│ fowlkes_mallows                │        0.06771 │       0.03675 │\n│ homogeneity                    │        0.98101 │       0.01501 │\n│\u001B[1;95m \u001B[0m\u001B[1;95mrepulsive                     \u001B[0m\u001B[1;95m \u001B[0m│\u001B[1;95m \u001B[0m\u001B[1;95m       4.00483\u001B[0m\u001B[1;95m \u001B[0m│\u001B[1;95m \u001B[0m\u001B[1;95m      2.85446\u001B[0m\u001B[1;95m \u001B[0m│\n│ repulsive_weighted             │        8.00967 │       5.70892 │\n│ total                          │ 21853488.00000 │ 7339746.00000 │\n│ trk.double_majority            │        0.00893 │       0.01525 │\n│ trk.double_majority_pt0.5      │        0.00893 │       0.01525 │\n│\u001B[1;95m \u001B[0m\u001B[1;95mtrk.double_majority_pt0.9     \u001B[0m\u001B[1;95m \u001B[0m│\u001B[1;95m \u001B[0m\u001B[1;95m       0.00893\u001B[0m\u001B[1;95m \u001B[0m│\u001B[1;95m \u001B[0m\u001B[1;95m      0.01525\u001B[0m\u001B[1;95m \u001B[0m│\n│ trk.double_majority_pt1.5      │        0.00893 │       0.01525 │\n│ trk.fake_double_majority       │        0.01530 │       0.01938 │\n│ trk.fake_double_majority_pt0.5 │        0.01530 │       0.01938 │\n│ trk.fake_double_majority_pt0.9 │        0.01530 │       0.01938 │\n│ trk.fake_double_majority_pt1.5 │        0.01530 │       0.01938 │\n│ trk.fake_lhc                   │        0.60000 │       0.54772 │\n│ trk.fake_lhc_pt0.5             │        0.60000 │       0.54772 │\n│ trk.fake_lhc_pt0.9             │        0.60000 │       0.54772 │\n│ trk.fake_lhc_pt1.5             │        0.60000 │       0.54772 │\n│ trk.fake_perfect               │        0.02422 │       0.01702 │\n│ trk.fake_perfect_pt0.5         │        0.02422 │       0.01702 │\n│ trk.fake_perfect_pt0.9         │        0.02422 │       0.01702 │\n│ trk.fake_perfect_pt1.5         │        0.02422 │       0.01702 │\n│ trk.lhc                        │        0.40000 │       0.54772 │\n│ trk.lhc_pt0.5                  │        0.40000 │       0.54772 │\n│\u001B[1;95m \u001B[0m\u001B[1;95mtrk.lhc_pt0.9                 \u001B[0m\u001B[1;95m \u001B[0m│\u001B[1;95m \u001B[0m\u001B[1;95m       0.40000\u001B[0m\u001B[1;95m \u001B[0m│\u001B[1;95m \u001B[0m\u001B[1;95m      0.54772\u001B[0m\u001B[1;95m \u001B[0m│\n│ trk.lhc_pt1.5                  │        0.40000 │       0.54772 │\n│ trk.n_cleaned_clusters         │        0.85714 │       0.69007 │\n│ trk.n_cleaned_clusters_pt0.5   │        0.85714 │       0.69007 │\n│ trk.n_cleaned_clusters_pt0.9   │        0.85714 │       0.69007 │\n│ trk.n_cleaned_clusters_pt1.5   │        0.85714 │       0.69007 │\n│ trk.n_particles                │       32.42857 │       7.89213 │\n│ trk.n_particles_pt0.5          │       32.42857 │       7.89213 │\n│ trk.n_particles_pt0.9          │       32.42857 │       7.89213 │\n│ trk.n_particles_pt1.5          │       32.42857 │       7.89213 │\n│ trk.perfect                    │        0.00000 │       0.00000 │\n│ trk.perfect_pt0.5              │        0.00000 │       0.00000 │\n│\u001B[1;95m \u001B[0m\u001B[1;95mtrk.perfect_pt0.9             \u001B[0m\u001B[1;95m \u001B[0m│\u001B[1;95m \u001B[0m\u001B[1;95m       0.00000\u001B[0m\u001B[1;95m \u001B[0m│\u001B[1;95m \u001B[0m\u001B[1;95m      0.00000\u001B[0m\u001B[1;95m \u001B[0m│\n│ trk.perfect_pt1.5              │        0.00000 │       0.00000 │\n│ v_measure                      │        0.77888 │       0.01152 │\n└────────────────────────────────┴────────────────┴───────────────┘\n",
      "text/html": "<pre style=\"white-space:pre;overflow-x:auto;line-height:normal;font-family:Menlo,'DejaVu Sans Mono',consolas,'Courier New',monospace\"><span style=\"font-style: italic\">                        Validation epoch=0                         </span>\n┏━━━━━━━━━━━━━━━━━━━━━━━━━━━━━━━━┳━━━━━━━━━━━━━━━━┳━━━━━━━━━━━━━━━┓\n┃<span style=\"font-weight: bold\"> Metric                         </span>┃<span style=\"font-weight: bold\">          Value </span>┃<span style=\"font-weight: bold\">         Error </span>┃\n┡━━━━━━━━━━━━━━━━━━━━━━━━━━━━━━━━╇━━━━━━━━━━━━━━━━╇━━━━━━━━━━━━━━━┩\n│ adjusted_rand                  │        0.02026 │       0.01163 │\n│<span style=\"color: #ff00ff; text-decoration-color: #ff00ff; font-weight: bold\"> attractive                     </span>│<span style=\"color: #ff00ff; text-decoration-color: #ff00ff; font-weight: bold\"> 21853480.00000 </span>│<span style=\"color: #ff00ff; text-decoration-color: #ff00ff; font-weight: bold\"> 7339746.00000 </span>│\n│ attractive_weighted            │ 21853480.00000 │ 7339746.00000 │\n│ background                     │        0.58068 │       0.06895 │\n│ background_weighted            │        0.05807 │       0.00690 │\n│ best_dbscan_eps                │        0.70959 │           nan │\n│ best_dbscan_min_samples        │        1.00000 │           nan │\n│ completeness                   │        0.64601 │       0.01496 │\n│ fowlkes_mallows                │        0.06771 │       0.03675 │\n│ homogeneity                    │        0.98101 │       0.01501 │\n│<span style=\"color: #ff00ff; text-decoration-color: #ff00ff; font-weight: bold\"> repulsive                      </span>│<span style=\"color: #ff00ff; text-decoration-color: #ff00ff; font-weight: bold\">        4.00483 </span>│<span style=\"color: #ff00ff; text-decoration-color: #ff00ff; font-weight: bold\">       2.85446 </span>│\n│ repulsive_weighted             │        8.00967 │       5.70892 │\n│ total                          │ 21853488.00000 │ 7339746.00000 │\n│ trk.double_majority            │        0.00893 │       0.01525 │\n│ trk.double_majority_pt0.5      │        0.00893 │       0.01525 │\n│<span style=\"color: #ff00ff; text-decoration-color: #ff00ff; font-weight: bold\"> trk.double_majority_pt0.9      </span>│<span style=\"color: #ff00ff; text-decoration-color: #ff00ff; font-weight: bold\">        0.00893 </span>│<span style=\"color: #ff00ff; text-decoration-color: #ff00ff; font-weight: bold\">       0.01525 </span>│\n│ trk.double_majority_pt1.5      │        0.00893 │       0.01525 │\n│ trk.fake_double_majority       │        0.01530 │       0.01938 │\n│ trk.fake_double_majority_pt0.5 │        0.01530 │       0.01938 │\n│ trk.fake_double_majority_pt0.9 │        0.01530 │       0.01938 │\n│ trk.fake_double_majority_pt1.5 │        0.01530 │       0.01938 │\n│ trk.fake_lhc                   │        0.60000 │       0.54772 │\n│ trk.fake_lhc_pt0.5             │        0.60000 │       0.54772 │\n│ trk.fake_lhc_pt0.9             │        0.60000 │       0.54772 │\n│ trk.fake_lhc_pt1.5             │        0.60000 │       0.54772 │\n│ trk.fake_perfect               │        0.02422 │       0.01702 │\n│ trk.fake_perfect_pt0.5         │        0.02422 │       0.01702 │\n│ trk.fake_perfect_pt0.9         │        0.02422 │       0.01702 │\n│ trk.fake_perfect_pt1.5         │        0.02422 │       0.01702 │\n│ trk.lhc                        │        0.40000 │       0.54772 │\n│ trk.lhc_pt0.5                  │        0.40000 │       0.54772 │\n│<span style=\"color: #ff00ff; text-decoration-color: #ff00ff; font-weight: bold\"> trk.lhc_pt0.9                  </span>│<span style=\"color: #ff00ff; text-decoration-color: #ff00ff; font-weight: bold\">        0.40000 </span>│<span style=\"color: #ff00ff; text-decoration-color: #ff00ff; font-weight: bold\">       0.54772 </span>│\n│ trk.lhc_pt1.5                  │        0.40000 │       0.54772 │\n│ trk.n_cleaned_clusters         │        0.85714 │       0.69007 │\n│ trk.n_cleaned_clusters_pt0.5   │        0.85714 │       0.69007 │\n│ trk.n_cleaned_clusters_pt0.9   │        0.85714 │       0.69007 │\n│ trk.n_cleaned_clusters_pt1.5   │        0.85714 │       0.69007 │\n│ trk.n_particles                │       32.42857 │       7.89213 │\n│ trk.n_particles_pt0.5          │       32.42857 │       7.89213 │\n│ trk.n_particles_pt0.9          │       32.42857 │       7.89213 │\n│ trk.n_particles_pt1.5          │       32.42857 │       7.89213 │\n│ trk.perfect                    │        0.00000 │       0.00000 │\n│ trk.perfect_pt0.5              │        0.00000 │       0.00000 │\n│<span style=\"color: #ff00ff; text-decoration-color: #ff00ff; font-weight: bold\"> trk.perfect_pt0.9              </span>│<span style=\"color: #ff00ff; text-decoration-color: #ff00ff; font-weight: bold\">        0.00000 </span>│<span style=\"color: #ff00ff; text-decoration-color: #ff00ff; font-weight: bold\">       0.00000 </span>│\n│ trk.perfect_pt1.5              │        0.00000 │       0.00000 │\n│ v_measure                      │        0.77888 │       0.01152 │\n└────────────────────────────────┴────────────────┴───────────────┘\n</pre>\n"
     },
     "metadata": {},
     "output_type": "display_data"
    },
    {
     "name": "stderr",
     "output_type": "stream",
     "text": [
      "`Trainer.fit` stopped: `max_epochs=1` reached.\n"
     ]
    }
   ],
   "source": [
    "trainer = Trainer(\n",
    "    max_epochs=1,\n",
    "    accelerator=\"cpu\",\n",
    "    log_every_n_steps=1,\n",
    "    callbacks=[PrintValidationMetrics()],\n",
    ")\n",
    "trainer.fit(model=lmodel, datamodule=dm)"
   ],
   "metadata": {
    "collapsed": false
   }
  },
  {
   "cell_type": "code",
   "execution_count": null,
   "outputs": [],
   "source": [],
   "metadata": {
    "collapsed": false
   }
  }
 ],
 "metadata": {
  "kernelspec": {
   "display_name": "Python 3",
   "language": "python",
   "name": "python3"
  },
  "language_info": {
   "codemirror_mode": {
    "name": "ipython",
    "version": 2
   },
   "file_extension": ".py",
   "mimetype": "text/x-python",
   "name": "python",
   "nbconvert_exporter": "python",
   "pygments_lexer": "ipython2",
   "version": "2.7.6"
  }
 },
 "nbformat": 4,
 "nbformat_minor": 0
}
