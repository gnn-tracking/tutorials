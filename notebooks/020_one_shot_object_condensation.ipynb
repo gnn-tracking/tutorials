{
 "cells": [
  {
   "cell_type": "markdown",
   "source": [
    "# One shot object condensation\n",
    "\n",
    "This notebook shows how you can implement a model that directly goes from point cloud data to object condensation."
   ],
   "metadata": {
    "collapsed": false
   }
  },
  {
   "cell_type": "code",
   "execution_count": 1,
   "outputs": [],
   "source": [
    "from pytorch_lightning.core.mixins import HyperparametersMixin\n",
    "from torch import nn\n",
    "from torch_geometric.nn.conv import GravNetConv\n",
    "from torch_geometric.data import Data\n",
    "from pytorch_lightning import Trainer\n",
    "\n",
    "from gnn_tracking.metrics.losses import PotentialLoss, BackgroundLoss\n",
    "import torch\n",
    "from functools import partial\n",
    "from gnn_tracking.training.tc import TCModule\n",
    "from gnn_tracking.utils.loading import TrackingDataModule"
   ],
   "metadata": {
    "collapsed": false
   }
  },
  {
   "cell_type": "markdown",
   "source": [
    "## 1. Configure data"
   ],
   "metadata": {
    "collapsed": false
   }
  },
  {
   "cell_type": "code",
   "execution_count": 2,
   "outputs": [],
   "source": [
    "dm = TrackingDataModule(\n",
    "    train=dict(\n",
    "        dirs=[\"/Users/fuchur/tmp/truth_cut_graphs_for_gsoc/part_1_0/\"],\n",
    "        stop=5,\n",
    "    ),\n",
    "    val=dict(\n",
    "        dirs=[\"/Users/fuchur/tmp/truth_cut_graphs_for_gsoc/part_1_0/\"],\n",
    "        start=5,\n",
    "        stop=10,\n",
    "    ),\n",
    "    # could also configure a 'test' set here\n",
    ")"
   ],
   "metadata": {
    "collapsed": false
   }
  },
  {
   "cell_type": "markdown",
   "source": [
    "## 2. Write a model"
   ],
   "metadata": {
    "collapsed": false
   }
  },
  {
   "cell_type": "code",
   "execution_count": 3,
   "outputs": [],
   "source": [
    "class DemoGravNet(nn.Module, HyperparametersMixin):\n",
    "    def __init__(self, in_dim: int = 14, depth: int = 1, k: int = 2):\n",
    "        super().__init__()\n",
    "        self.save_hyperparameters()\n",
    "        layers = [\n",
    "            GravNetConv(\n",
    "                in_channels=in_dim,\n",
    "                out_channels=in_dim,\n",
    "                space_dimensions=3,\n",
    "                propagate_dimensions=3,\n",
    "                k=k,\n",
    "            )\n",
    "            for _ in range(depth)\n",
    "        ]\n",
    "        self._embedding = nn.Sequential(*layers)\n",
    "        self._beta = nn.Sequential(\n",
    "            nn.Linear(in_dim, 1),\n",
    "            nn.Sigmoid(),\n",
    "        )\n",
    "\n",
    "    def forward(self, data: Data):\n",
    "        latent = self._embedding(data.x)\n",
    "        beta = self._beta(latent).squeeze()\n",
    "        eps = 1e-6\n",
    "        beta = beta.clamp(eps, 1 - eps)\n",
    "        return {\n",
    "            \"B\": beta,\n",
    "            \"H\": latent,\n",
    "        }"
   ],
   "metadata": {
    "collapsed": false
   }
  },
  {
   "cell_type": "code",
   "execution_count": 4,
   "outputs": [],
   "source": [
    "model = DemoGravNet()"
   ],
   "metadata": {
    "collapsed": false
   }
  },
  {
   "cell_type": "markdown",
   "source": [
    "## 3. Configure loss functions and weights"
   ],
   "metadata": {
    "collapsed": false
   }
  },
  {
   "cell_type": "code",
   "execution_count": 5,
   "outputs": [],
   "source": [
    "# The loss functions can be memory hungry. Here we override `data_preproc` to place a tighter pt cut on\n",
    "# the data to easy computation (since this is just a demo).\n",
    "# You can use the original TCModule class if you have enough GPU/CPU memory.\n",
    "class MyTCModule(TCModule):\n",
    "    def data_preproc(self, data: Data):\n",
    "        mask = data.pt > 4\n",
    "        data = data.subgraph(mask)\n",
    "        return data"
   ],
   "metadata": {
    "collapsed": false
   }
  },
  {
   "cell_type": "code",
   "execution_count": 6,
   "outputs": [
    {
     "name": "stderr",
     "output_type": "stream",
     "text": [
      "\u001b[36m[14:19:21] DEBUG: Got obj of type <class '__main__.DemoGravNet'>, assuming I have to save hyperparameters\u001b[0m\n",
      "\u001b[36m[14:19:21] DEBUG: Saving hyperperameters {'class_path': '__main__.DemoGravNet', 'init_args': {'in_dim': 14, 'depth': 1, 'k': 2}}\u001b[0m\n",
      "\u001b[36m[14:19:21] DEBUG: Got obj of type <class 'gnn_tracking.metrics.losses.PotentialLoss'>, assuming I have to save hyperparameters\u001b[0m\n",
      "\u001b[36m[14:19:21] DEBUG: Saving hyperperameters {'class_path': 'gnn_tracking.metrics.losses.PotentialLoss', 'init_args': {'q_min': 0.01, 'radius_threshold': 1.0, 'attr_pt_thld': 0.9}}\u001b[0m\n",
      "\u001b[36m[14:19:21] DEBUG: Got obj of type <class 'gnn_tracking.metrics.losses.BackgroundLoss'>, assuming I have to save hyperparameters\u001b[0m\n",
      "\u001b[36m[14:19:21] DEBUG: Saving hyperperameters {'class_path': 'gnn_tracking.metrics.losses.BackgroundLoss', 'init_args': {'sb': 0.1}}\u001b[0m\n",
      "\u001b[36m[14:19:21] DEBUG: Got obj of type <class 'gnn_tracking.postprocessing.dbscanscanner.DBSCANHyperParamScanner'>, assuming I have to save hyperparameters\u001b[0m\n",
      "\u001b[36m[14:19:21] DEBUG: Saving hyperperameters {'class_path': 'gnn_tracking.postprocessing.dbscanscanner.DBSCANHyperParamScanner', 'init_args': {'eps_range': (1e-05, 1.0), 'min_samples_range': (1, 3), 'n_trials': 5, 'n_jobs': 1, 'guide': 'trk.double_majority_pt0.9'}}\u001b[0m\n"
     ]
    }
   ],
   "source": [
    "from gnn_tracking.postprocessing.dbscanscanner import DBSCANHyperParamScanner\n",
    "\n",
    "# TC for track condensation\n",
    "lmodel = MyTCModule(\n",
    "    model=model,\n",
    "    potential_loss=PotentialLoss(\n",
    "        radius_threshold=1.0,\n",
    "    ),\n",
    "    background_loss=BackgroundLoss(),\n",
    "    lw_repulsive=2.0,\n",
    "    lw_background=0.1,\n",
    "    optimizer=partial(torch.optim.Adam, lr=1e-4),\n",
    "    cluster_scanner=DBSCANHyperParamScanner(n_trials=5, n_jobs=1),\n",
    ")"
   ],
   "metadata": {
    "collapsed": false
   }
  },
  {
   "cell_type": "markdown",
   "source": [
    "## 4. Train the model"
   ],
   "metadata": {
    "collapsed": false
   }
  },
  {
   "cell_type": "code",
   "execution_count": 7,
   "outputs": [
    {
     "name": "stderr",
     "output_type": "stream",
     "text": [
      "GPU available: True (mps), used: False\n",
      "TPU available: False, using: 0 TPU cores\n",
      "IPU available: False, using: 0 IPUs\n",
      "HPU available: False, using: 0 HPUs\n",
      "/Users/fuchur/micromamba/envs/gnn/lib/python3.11/site-packages/pytorch_lightning/trainer/setup.py:201: UserWarning: MPS available but not used. Set `accelerator` and `devices` using `Trainer(accelerator='mps', devices=1)`.\n",
      "  rank_zero_warn(\n",
      "\u001b[32m[14:19:21] INFO: DataLoader will load 5 graphs (out of 90 available).\u001b[0m\n",
      "\u001b[36m[14:19:21] DEBUG: First graph is /Users/fuchur/tmp/truth_cut_graphs_for_gsoc/part_1_0/data21025_s0.pt, last graph is /Users/fuchur/tmp/truth_cut_graphs_for_gsoc/part_1_0/data21053_s0.pt\u001b[0m\n",
      "\u001b[32m[14:19:21] INFO: DataLoader will load 5 graphs (out of 90 available).\u001b[0m\n",
      "\u001b[36m[14:19:21] DEBUG: First graph is /Users/fuchur/tmp/truth_cut_graphs_for_gsoc/part_1_0/data21058_s0.pt, last graph is /Users/fuchur/tmp/truth_cut_graphs_for_gsoc/part_1_0/data21094_s0.pt\u001b[0m\n",
      "\n",
      "  | Name            | Type           | Params\n",
      "---------------------------------------------------\n",
      "0 | model           | DemoGravNet    | 399   \n",
      "1 | potential_loss  | PotentialLoss  | 0     \n",
      "2 | background_loss | BackgroundLoss | 0     \n",
      "---------------------------------------------------\n",
      "399       Trainable params\n",
      "0         Non-trainable params\n",
      "399       Total params\n",
      "0.002     Total estimated model params size (MB)\n"
     ]
    },
    {
     "data": {
      "text/plain": "Sanity Checking: 0it [00:00, ?it/s]",
      "application/vnd.jupyter.widget-view+json": {
       "version_major": 2,
       "version_minor": 0,
       "model_id": "5c22846b0770461eb5a110f274b9604d"
      }
     },
     "metadata": {},
     "output_type": "display_data"
    },
    {
     "name": "stderr",
     "output_type": "stream",
     "text": [
      "/Users/fuchur/micromamba/envs/gnn/lib/python3.11/site-packages/pytorch_lightning/trainer/connectors/data_connector.py:432: PossibleUserWarning: The dataloader, val_dataloader, does not have many workers which may be a bottleneck. Consider increasing the value of the `num_workers` argument` (try 10 which is the number of cpus on this machine) in the `DataLoader` init to improve performance.\n",
      "  rank_zero_warn(\n",
      "/Users/fuchur/micromamba/envs/gnn/lib/python3.11/site-packages/pytorch_lightning/utilities/data.py:76: UserWarning: Trying to infer the `batch_size` from an ambiguous collection. The batch size we found is 6789. To avoid any miscalculations, use `self.log(..., batch_size=batch_size)`.\n",
      "  warning_cache.warn(\n",
      "/Users/fuchur/micromamba/envs/gnn/lib/python3.11/site-packages/pytorch_lightning/utilities/data.py:76: UserWarning: Trying to infer the `batch_size` from an ambiguous collection. The batch size we found is 8459. To avoid any miscalculations, use `self.log(..., batch_size=batch_size)`.\n",
      "  warning_cache.warn(\n"
     ]
    },
    {
     "data": {
      "text/plain": "\n\n",
      "text/html": "<pre style=\"white-space:pre;overflow-x:auto;line-height:normal;font-family:Menlo,'DejaVu Sans Mono',consolas,'Courier New',monospace\">\n\n</pre>\n"
     },
     "metadata": {},
     "output_type": "display_data"
    },
    {
     "data": {
      "text/plain": "\u001b[3m                   Validation epoch=0                   \u001b[0m\n┏━━━━━━━━━━━━━━━━━━━━━┳━━━━━━━━━━━━━━━━┳━━━━━━━━━━━━━━━┓\n┃\u001b[1m \u001b[0m\u001b[1mMetric             \u001b[0m\u001b[1m \u001b[0m┃\u001b[1m \u001b[0m\u001b[1m         Value\u001b[0m\u001b[1m \u001b[0m┃\u001b[1m \u001b[0m\u001b[1m        Error\u001b[0m\u001b[1m \u001b[0m┃\n┡━━━━━━━━━━━━━━━━━━━━━╇━━━━━━━━━━━━━━━━╇━━━━━━━━━━━━━━━┩\n│\u001b[1;95m \u001b[0m\u001b[1;95mattractive         \u001b[0m\u001b[1;95m \u001b[0m│\u001b[1;95m \u001b[0m\u001b[1;95m13455586.00000\u001b[0m\u001b[1;95m \u001b[0m│\u001b[1;95m \u001b[0m\u001b[1;95m6582726.00000\u001b[0m\u001b[1;95m \u001b[0m│\n│ attractive_weighted │ 13455586.00000 │ 6582726.00000 │\n│ background          │        0.65215 │       0.11588 │\n│ background_weighted │        0.06521 │       0.01159 │\n│\u001b[1;95m \u001b[0m\u001b[1;95mrepulsive          \u001b[0m\u001b[1;95m \u001b[0m│\u001b[1;95m \u001b[0m\u001b[1;95m       0.03209\u001b[0m\u001b[1;95m \u001b[0m│\u001b[1;95m \u001b[0m\u001b[1;95m      0.03539\u001b[0m\u001b[1;95m \u001b[0m│\n│ repulsive_weighted  │        0.06418 │       0.07079 │\n│ total               │ 13455586.00000 │ 6582726.00000 │\n└─────────────────────┴────────────────┴───────────────┘\n",
      "text/html": "<pre style=\"white-space:pre;overflow-x:auto;line-height:normal;font-family:Menlo,'DejaVu Sans Mono',consolas,'Courier New',monospace\"><span style=\"font-style: italic\">                   Validation epoch=0                   </span>\n┏━━━━━━━━━━━━━━━━━━━━━┳━━━━━━━━━━━━━━━━┳━━━━━━━━━━━━━━━┓\n┃<span style=\"font-weight: bold\"> Metric              </span>┃<span style=\"font-weight: bold\">          Value </span>┃<span style=\"font-weight: bold\">         Error </span>┃\n┡━━━━━━━━━━━━━━━━━━━━━╇━━━━━━━━━━━━━━━━╇━━━━━━━━━━━━━━━┩\n│<span style=\"color: #ff00ff; text-decoration-color: #ff00ff; font-weight: bold\"> attractive          </span>│<span style=\"color: #ff00ff; text-decoration-color: #ff00ff; font-weight: bold\"> 13455586.00000 </span>│<span style=\"color: #ff00ff; text-decoration-color: #ff00ff; font-weight: bold\"> 6582726.00000 </span>│\n│ attractive_weighted │ 13455586.00000 │ 6582726.00000 │\n│ background          │        0.65215 │       0.11588 │\n│ background_weighted │        0.06521 │       0.01159 │\n│<span style=\"color: #ff00ff; text-decoration-color: #ff00ff; font-weight: bold\"> repulsive           </span>│<span style=\"color: #ff00ff; text-decoration-color: #ff00ff; font-weight: bold\">        0.03209 </span>│<span style=\"color: #ff00ff; text-decoration-color: #ff00ff; font-weight: bold\">       0.03539 </span>│\n│ repulsive_weighted  │        0.06418 │       0.07079 │\n│ total               │ 13455586.00000 │ 6582726.00000 │\n└─────────────────────┴────────────────┴───────────────┘\n</pre>\n"
     },
     "metadata": {},
     "output_type": "display_data"
    },
    {
     "name": "stderr",
     "output_type": "stream",
     "text": [
      "/Users/fuchur/micromamba/envs/gnn/lib/python3.11/site-packages/pytorch_lightning/trainer/connectors/data_connector.py:432: PossibleUserWarning: The dataloader, train_dataloader, does not have many workers which may be a bottleneck. Consider increasing the value of the `num_workers` argument` (try 10 which is the number of cpus on this machine) in the `DataLoader` init to improve performance.\n",
      "  rank_zero_warn(\n"
     ]
    },
    {
     "data": {
      "text/plain": "Training: 0it [00:00, ?it/s]",
      "application/vnd.jupyter.widget-view+json": {
       "version_major": 2,
       "version_minor": 0,
       "model_id": "8169f9f95b864b739820733ec5b9a966"
      }
     },
     "metadata": {},
     "output_type": "display_data"
    },
    {
     "data": {
      "text/plain": "Validation: 0it [00:00, ?it/s]",
      "application/vnd.jupyter.widget-view+json": {
       "version_major": 2,
       "version_minor": 0,
       "model_id": "ed07004f26484f0bbe795f10806b5397"
      }
     },
     "metadata": {},
     "output_type": "display_data"
    },
    {
     "name": "stderr",
     "output_type": "stream",
     "text": [
      "/Users/fuchur/micromamba/envs/gnn/lib/python3.11/site-packages/pytorch_lightning/utilities/data.py:76: UserWarning: Trying to infer the `batch_size` from an ambiguous collection. The batch size we found is 7299. To avoid any miscalculations, use `self.log(..., batch_size=batch_size)`.\n",
      "  warning_cache.warn(\n",
      "/Users/fuchur/micromamba/envs/gnn/lib/python3.11/site-packages/pytorch_lightning/utilities/data.py:76: UserWarning: Trying to infer the `batch_size` from an ambiguous collection. The batch size we found is 5946. To avoid any miscalculations, use `self.log(..., batch_size=batch_size)`.\n",
      "  warning_cache.warn(\n",
      "\u001b[36m[14:19:37 ClusterHP] DEBUG: Starting from params: {}\u001b[0m\n",
      "\u001b[32m[14:19:37 ClusterHP] INFO: Starting hyperparameter scan for clustering\u001b[0m\n",
      "/Users/fuchur/Documents/22/git_sync/gnn_tracking/src/gnn_tracking/utils/math.py:4: RuntimeWarning: invalid value encountered in scalar divide\n",
      "  return a / b\n",
      "/Users/fuchur/Documents/22/git_sync/gnn_tracking/src/gnn_tracking/utils/math.py:4: RuntimeWarning: invalid value encountered in scalar divide\n",
      "  return a / b\n",
      "/Users/fuchur/Documents/22/git_sync/gnn_tracking/src/gnn_tracking/utils/math.py:4: RuntimeWarning: invalid value encountered in scalar divide\n",
      "  return a / b\n",
      "/Users/fuchur/Documents/22/git_sync/gnn_tracking/src/gnn_tracking/utils/math.py:4: RuntimeWarning: invalid value encountered in scalar divide\n",
      "  return a / b\n",
      "/Users/fuchur/Documents/22/git_sync/gnn_tracking/src/gnn_tracking/utils/math.py:4: RuntimeWarning: invalid value encountered in scalar divide\n",
      "  return a / b\n",
      "/Users/fuchur/Documents/22/git_sync/gnn_tracking/src/gnn_tracking/utils/math.py:4: RuntimeWarning: invalid value encountered in scalar divide\n",
      "  return a / b\n",
      "/Users/fuchur/Documents/22/git_sync/gnn_tracking/src/gnn_tracking/utils/math.py:4: RuntimeWarning: invalid value encountered in scalar divide\n",
      "  return a / b\n",
      "/Users/fuchur/Documents/22/git_sync/gnn_tracking/src/gnn_tracking/utils/math.py:4: RuntimeWarning: invalid value encountered in scalar divide\n",
      "  return a / b\n",
      "/Users/fuchur/Documents/22/git_sync/gnn_tracking/src/gnn_tracking/utils/math.py:4: RuntimeWarning: invalid value encountered in scalar divide\n",
      "  return a / b\n",
      "/Users/fuchur/Documents/22/git_sync/gnn_tracking/src/gnn_tracking/utils/math.py:4: RuntimeWarning: invalid value encountered in scalar divide\n",
      "  return a / b\n",
      "/Users/fuchur/Documents/22/git_sync/gnn_tracking/src/gnn_tracking/utils/math.py:4: RuntimeWarning: invalid value encountered in scalar divide\n",
      "  return a / b\n",
      "/Users/fuchur/Documents/22/git_sync/gnn_tracking/src/gnn_tracking/utils/math.py:4: RuntimeWarning: invalid value encountered in scalar divide\n",
      "  return a / b\n",
      "/Users/fuchur/Documents/22/git_sync/gnn_tracking/src/gnn_tracking/utils/math.py:4: RuntimeWarning: invalid value encountered in scalar divide\n",
      "  return a / b\n",
      "/Users/fuchur/Documents/22/git_sync/gnn_tracking/src/gnn_tracking/utils/math.py:4: RuntimeWarning: invalid value encountered in scalar divide\n",
      "  return a / b\n",
      "/Users/fuchur/Documents/22/git_sync/gnn_tracking/src/gnn_tracking/utils/math.py:4: RuntimeWarning: invalid value encountered in scalar divide\n",
      "  return a / b\n",
      "/Users/fuchur/Documents/22/git_sync/gnn_tracking/src/gnn_tracking/utils/math.py:4: RuntimeWarning: invalid value encountered in scalar divide\n",
      "  return a / b\n",
      "/Users/fuchur/Documents/22/git_sync/gnn_tracking/src/gnn_tracking/utils/math.py:4: RuntimeWarning: invalid value encountered in scalar divide\n",
      "  return a / b\n",
      "/Users/fuchur/Documents/22/git_sync/gnn_tracking/src/gnn_tracking/utils/math.py:4: RuntimeWarning: invalid value encountered in scalar divide\n",
      "  return a / b\n",
      "/Users/fuchur/Documents/22/git_sync/gnn_tracking/src/gnn_tracking/utils/math.py:4: RuntimeWarning: invalid value encountered in scalar divide\n",
      "  return a / b\n",
      "/Users/fuchur/Documents/22/git_sync/gnn_tracking/src/gnn_tracking/utils/math.py:4: RuntimeWarning: invalid value encountered in scalar divide\n",
      "  return a / b\n",
      "/Users/fuchur/Documents/22/git_sync/gnn_tracking/src/gnn_tracking/utils/math.py:4: RuntimeWarning: invalid value encountered in scalar divide\n",
      "  return a / b\n",
      "/Users/fuchur/Documents/22/git_sync/gnn_tracking/src/gnn_tracking/utils/math.py:4: RuntimeWarning: invalid value encountered in scalar divide\n",
      "  return a / b\n",
      "/Users/fuchur/Documents/22/git_sync/gnn_tracking/src/gnn_tracking/utils/math.py:4: RuntimeWarning: invalid value encountered in scalar divide\n",
      "  return a / b\n",
      "/Users/fuchur/Documents/22/git_sync/gnn_tracking/src/gnn_tracking/utils/math.py:4: RuntimeWarning: invalid value encountered in scalar divide\n",
      "  return a / b\n",
      "/Users/fuchur/Documents/22/git_sync/gnn_tracking/src/gnn_tracking/utils/math.py:4: RuntimeWarning: invalid value encountered in scalar divide\n",
      "  return a / b\n",
      "/Users/fuchur/Documents/22/git_sync/gnn_tracking/src/gnn_tracking/utils/math.py:4: RuntimeWarning: invalid value encountered in scalar divide\n",
      "  return a / b\n",
      "/Users/fuchur/Documents/22/git_sync/gnn_tracking/src/gnn_tracking/utils/math.py:4: RuntimeWarning: invalid value encountered in scalar divide\n",
      "  return a / b\n",
      "/Users/fuchur/Documents/22/git_sync/gnn_tracking/src/gnn_tracking/utils/math.py:4: RuntimeWarning: invalid value encountered in scalar divide\n",
      "  return a / b\n",
      "/Users/fuchur/Documents/22/git_sync/gnn_tracking/src/gnn_tracking/utils/math.py:4: RuntimeWarning: invalid value encountered in scalar divide\n",
      "  return a / b\n",
      "/Users/fuchur/Documents/22/git_sync/gnn_tracking/src/gnn_tracking/utils/math.py:4: RuntimeWarning: invalid value encountered in scalar divide\n",
      "  return a / b\n",
      "/Users/fuchur/Documents/22/git_sync/gnn_tracking/src/gnn_tracking/utils/math.py:4: RuntimeWarning: invalid value encountered in scalar divide\n",
      "  return a / b\n",
      "/Users/fuchur/Documents/22/git_sync/gnn_tracking/src/gnn_tracking/utils/math.py:4: RuntimeWarning: invalid value encountered in scalar divide\n",
      "  return a / b\n",
      "/Users/fuchur/Documents/22/git_sync/gnn_tracking/src/gnn_tracking/utils/math.py:4: RuntimeWarning: invalid value encountered in scalar divide\n",
      "  return a / b\n",
      "/Users/fuchur/Documents/22/git_sync/gnn_tracking/src/gnn_tracking/utils/math.py:4: RuntimeWarning: invalid value encountered in scalar divide\n",
      "  return a / b\n",
      "/Users/fuchur/Documents/22/git_sync/gnn_tracking/src/gnn_tracking/utils/math.py:4: RuntimeWarning: invalid value encountered in scalar divide\n",
      "  return a / b\n",
      "/Users/fuchur/Documents/22/git_sync/gnn_tracking/src/gnn_tracking/utils/math.py:4: RuntimeWarning: invalid value encountered in scalar divide\n",
      "  return a / b\n",
      "/Users/fuchur/Documents/22/git_sync/gnn_tracking/src/gnn_tracking/utils/math.py:4: RuntimeWarning: invalid value encountered in scalar divide\n",
      "  return a / b\n",
      "/Users/fuchur/Documents/22/git_sync/gnn_tracking/src/gnn_tracking/utils/math.py:4: RuntimeWarning: invalid value encountered in scalar divide\n",
      "  return a / b\n",
      "/Users/fuchur/Documents/22/git_sync/gnn_tracking/src/gnn_tracking/utils/math.py:4: RuntimeWarning: invalid value encountered in scalar divide\n",
      "  return a / b\n",
      "/Users/fuchur/Documents/22/git_sync/gnn_tracking/src/gnn_tracking/utils/math.py:4: RuntimeWarning: invalid value encountered in scalar divide\n",
      "  return a / b\n",
      "/Users/fuchur/Documents/22/git_sync/gnn_tracking/src/gnn_tracking/utils/math.py:4: RuntimeWarning: invalid value encountered in scalar divide\n",
      "  return a / b\n",
      "/Users/fuchur/Documents/22/git_sync/gnn_tracking/src/gnn_tracking/utils/math.py:4: RuntimeWarning: invalid value encountered in scalar divide\n",
      "  return a / b\n",
      "/Users/fuchur/Documents/22/git_sync/gnn_tracking/src/gnn_tracking/utils/math.py:4: RuntimeWarning: invalid value encountered in scalar divide\n",
      "  return a / b\n",
      "/Users/fuchur/Documents/22/git_sync/gnn_tracking/src/gnn_tracking/utils/math.py:4: RuntimeWarning: invalid value encountered in scalar divide\n",
      "  return a / b\n",
      "/Users/fuchur/Documents/22/git_sync/gnn_tracking/src/gnn_tracking/utils/math.py:4: RuntimeWarning: invalid value encountered in scalar divide\n",
      "  return a / b\n",
      "/Users/fuchur/Documents/22/git_sync/gnn_tracking/src/gnn_tracking/utils/math.py:4: RuntimeWarning: invalid value encountered in scalar divide\n",
      "  return a / b\n",
      "/Users/fuchur/Documents/22/git_sync/gnn_tracking/src/gnn_tracking/utils/math.py:4: RuntimeWarning: invalid value encountered in scalar divide\n",
      "  return a / b\n",
      "/Users/fuchur/Documents/22/git_sync/gnn_tracking/src/gnn_tracking/utils/math.py:4: RuntimeWarning: invalid value encountered in scalar divide\n",
      "  return a / b\n",
      "/Users/fuchur/Documents/22/git_sync/gnn_tracking/src/gnn_tracking/utils/math.py:4: RuntimeWarning: invalid value encountered in scalar divide\n",
      "  return a / b\n",
      "/Users/fuchur/Documents/22/git_sync/gnn_tracking/src/gnn_tracking/utils/math.py:4: RuntimeWarning: invalid value encountered in scalar divide\n",
      "  return a / b\n",
      "/Users/fuchur/Documents/22/git_sync/gnn_tracking/src/gnn_tracking/utils/math.py:4: RuntimeWarning: invalid value encountered in scalar divide\n",
      "  return a / b\n",
      "/Users/fuchur/Documents/22/git_sync/gnn_tracking/src/gnn_tracking/utils/math.py:4: RuntimeWarning: invalid value encountered in scalar divide\n",
      "  return a / b\n",
      "/Users/fuchur/Documents/22/git_sync/gnn_tracking/src/gnn_tracking/utils/math.py:4: RuntimeWarning: invalid value encountered in scalar divide\n",
      "  return a / b\n",
      "/Users/fuchur/Documents/22/git_sync/gnn_tracking/src/gnn_tracking/utils/math.py:4: RuntimeWarning: invalid value encountered in scalar divide\n",
      "  return a / b\n",
      "/Users/fuchur/Documents/22/git_sync/gnn_tracking/src/gnn_tracking/utils/math.py:4: RuntimeWarning: invalid value encountered in scalar divide\n",
      "  return a / b\n",
      "/Users/fuchur/Documents/22/git_sync/gnn_tracking/src/gnn_tracking/utils/math.py:4: RuntimeWarning: invalid value encountered in scalar divide\n",
      "  return a / b\n",
      "/Users/fuchur/Documents/22/git_sync/gnn_tracking/src/gnn_tracking/utils/math.py:4: RuntimeWarning: invalid value encountered in scalar divide\n",
      "  return a / b\n",
      "/Users/fuchur/Documents/22/git_sync/gnn_tracking/src/gnn_tracking/utils/math.py:4: RuntimeWarning: invalid value encountered in scalar divide\n",
      "  return a / b\n",
      "/Users/fuchur/Documents/22/git_sync/gnn_tracking/src/gnn_tracking/utils/math.py:4: RuntimeWarning: invalid value encountered in scalar divide\n",
      "  return a / b\n",
      "/Users/fuchur/Documents/22/git_sync/gnn_tracking/src/gnn_tracking/utils/math.py:4: RuntimeWarning: invalid value encountered in scalar divide\n",
      "  return a / b\n",
      "/Users/fuchur/Documents/22/git_sync/gnn_tracking/src/gnn_tracking/utils/math.py:4: RuntimeWarning: invalid value encountered in scalar divide\n",
      "  return a / b\n",
      "/Users/fuchur/Documents/22/git_sync/gnn_tracking/src/gnn_tracking/utils/math.py:4: RuntimeWarning: invalid value encountered in scalar divide\n",
      "  return a / b\n",
      "/Users/fuchur/Documents/22/git_sync/gnn_tracking/src/gnn_tracking/utils/math.py:4: RuntimeWarning: invalid value encountered in scalar divide\n",
      "  return a / b\n",
      "/Users/fuchur/Documents/22/git_sync/gnn_tracking/src/gnn_tracking/utils/math.py:4: RuntimeWarning: invalid value encountered in scalar divide\n",
      "  return a / b\n",
      "/Users/fuchur/Documents/22/git_sync/gnn_tracking/src/gnn_tracking/utils/math.py:4: RuntimeWarning: invalid value encountered in scalar divide\n",
      "  return a / b\n",
      "/Users/fuchur/Documents/22/git_sync/gnn_tracking/src/gnn_tracking/utils/math.py:4: RuntimeWarning: invalid value encountered in scalar divide\n",
      "  return a / b\n",
      "/Users/fuchur/Documents/22/git_sync/gnn_tracking/src/gnn_tracking/utils/math.py:4: RuntimeWarning: invalid value encountered in scalar divide\n",
      "  return a / b\n",
      "/Users/fuchur/Documents/22/git_sync/gnn_tracking/src/gnn_tracking/utils/math.py:4: RuntimeWarning: invalid value encountered in scalar divide\n",
      "  return a / b\n",
      "/Users/fuchur/Documents/22/git_sync/gnn_tracking/src/gnn_tracking/utils/math.py:4: RuntimeWarning: invalid value encountered in scalar divide\n",
      "  return a / b\n",
      "/Users/fuchur/Documents/22/git_sync/gnn_tracking/src/gnn_tracking/utils/math.py:4: RuntimeWarning: invalid value encountered in scalar divide\n",
      "  return a / b\n",
      "/Users/fuchur/Documents/22/git_sync/gnn_tracking/src/gnn_tracking/utils/math.py:4: RuntimeWarning: invalid value encountered in scalar divide\n",
      "  return a / b\n",
      "/Users/fuchur/Documents/22/git_sync/gnn_tracking/src/gnn_tracking/utils/math.py:4: RuntimeWarning: invalid value encountered in scalar divide\n",
      "  return a / b\n",
      "/Users/fuchur/Documents/22/git_sync/gnn_tracking/src/gnn_tracking/utils/math.py:4: RuntimeWarning: invalid value encountered in scalar divide\n",
      "  return a / b\n",
      "/Users/fuchur/Documents/22/git_sync/gnn_tracking/src/gnn_tracking/utils/math.py:4: RuntimeWarning: invalid value encountered in scalar divide\n",
      "  return a / b\n",
      "/Users/fuchur/Documents/22/git_sync/gnn_tracking/src/gnn_tracking/utils/math.py:4: RuntimeWarning: invalid value encountered in scalar divide\n",
      "  return a / b\n",
      "/Users/fuchur/Documents/22/git_sync/gnn_tracking/src/gnn_tracking/utils/math.py:4: RuntimeWarning: invalid value encountered in scalar divide\n",
      "  return a / b\n",
      "/Users/fuchur/Documents/22/git_sync/gnn_tracking/src/gnn_tracking/utils/math.py:4: RuntimeWarning: invalid value encountered in scalar divide\n",
      "  return a / b\n",
      "/Users/fuchur/Documents/22/git_sync/gnn_tracking/src/gnn_tracking/utils/math.py:4: RuntimeWarning: invalid value encountered in scalar divide\n",
      "  return a / b\n",
      "/Users/fuchur/Documents/22/git_sync/gnn_tracking/src/gnn_tracking/utils/math.py:4: RuntimeWarning: invalid value encountered in scalar divide\n",
      "  return a / b\n",
      "/Users/fuchur/Documents/22/git_sync/gnn_tracking/src/gnn_tracking/utils/math.py:4: RuntimeWarning: invalid value encountered in scalar divide\n",
      "  return a / b\n",
      "/Users/fuchur/Documents/22/git_sync/gnn_tracking/src/gnn_tracking/utils/math.py:4: RuntimeWarning: invalid value encountered in scalar divide\n",
      "  return a / b\n",
      "/Users/fuchur/Documents/22/git_sync/gnn_tracking/src/gnn_tracking/utils/math.py:4: RuntimeWarning: invalid value encountered in scalar divide\n",
      "  return a / b\n",
      "/Users/fuchur/Documents/22/git_sync/gnn_tracking/src/gnn_tracking/utils/math.py:4: RuntimeWarning: invalid value encountered in scalar divide\n",
      "  return a / b\n",
      "/Users/fuchur/Documents/22/git_sync/gnn_tracking/src/gnn_tracking/utils/math.py:4: RuntimeWarning: invalid value encountered in scalar divide\n",
      "  return a / b\n",
      "/Users/fuchur/Documents/22/git_sync/gnn_tracking/src/gnn_tracking/utils/math.py:4: RuntimeWarning: invalid value encountered in scalar divide\n",
      "  return a / b\n",
      "/Users/fuchur/Documents/22/git_sync/gnn_tracking/src/gnn_tracking/utils/math.py:4: RuntimeWarning: invalid value encountered in scalar divide\n",
      "  return a / b\n",
      "/Users/fuchur/Documents/22/git_sync/gnn_tracking/src/gnn_tracking/utils/math.py:4: RuntimeWarning: invalid value encountered in scalar divide\n",
      "  return a / b\n",
      "/Users/fuchur/Documents/22/git_sync/gnn_tracking/src/gnn_tracking/utils/math.py:4: RuntimeWarning: invalid value encountered in scalar divide\n",
      "  return a / b\n",
      "\u001b[36m[14:19:37 ClusterHP] DEBUG: Evaluating all metrics for best clustering\u001b[0m\n",
      "/Users/fuchur/Documents/22/git_sync/gnn_tracking/src/gnn_tracking/utils/math.py:4: RuntimeWarning: invalid value encountered in scalar divide\n",
      "  return a / b\n",
      "/Users/fuchur/Documents/22/git_sync/gnn_tracking/src/gnn_tracking/utils/math.py:4: RuntimeWarning: invalid value encountered in scalar divide\n",
      "  return a / b\n",
      "/Users/fuchur/Documents/22/git_sync/gnn_tracking/src/gnn_tracking/utils/math.py:4: RuntimeWarning: invalid value encountered in scalar divide\n",
      "  return a / b\n",
      "/Users/fuchur/Documents/22/git_sync/gnn_tracking/src/gnn_tracking/utils/math.py:4: RuntimeWarning: invalid value encountered in scalar divide\n",
      "  return a / b\n",
      "\u001b[36m[14:19:37 ClusterHP] DEBUG: Evaluating metrics took 0.074648 seconds: Clustering time: 0.007080, total metric eval: 0.067351, individual: v_measure: 0.006963083986192942, homogeneity: 0.003876166883856058, completeness: 0.00360804027877748, trk: 0.04668395803309977, adjusted_rand: 0.0035223737359046936, fowlkes_mallows: 0.0026972077321261168\u001b[0m\n",
      "\u001b[36m[14:19:37 ClusterHP] DEBUG: Variance among 5 trials is 0.004890. Min/max: 0.000000/0.008929\u001b[0m\n",
      "\u001b[32m[14:19:37 ClusterHP] INFO: Clustering hyperparameter scan & metric evaluation took 0.38 seconds\u001b[0m\n",
      "/Users/fuchur/micromamba/envs/gnn/lib/python3.11/site-packages/pytorch_lightning/utilities/data.py:76: UserWarning: Trying to infer the `batch_size` from an ambiguous collection. The batch size we found is 8207. To avoid any miscalculations, use `self.log(..., batch_size=batch_size)`.\n",
      "  warning_cache.warn(\n",
      "/Users/fuchur/micromamba/envs/gnn/lib/python3.11/site-packages/pytorch_lightning/trainer/connectors/logger_connector/result.py:212: UserWarning: You called `self.log('best_dbscan_min_samples', ...)` in your `validation_step` but the value needs to be floating point. Converting it to torch.float32.\n",
      "  warning_cache.warn(\n",
      "NaN or Inf found in input tensor.\n",
      "NaN or Inf found in input tensor.\n",
      "NaN or Inf found in input tensor.\n",
      "NaN or Inf found in input tensor.\n",
      "NaN or Inf found in input tensor.\n",
      "NaN or Inf found in input tensor.\n",
      "NaN or Inf found in input tensor.\n",
      "NaN or Inf found in input tensor.\n",
      "NaN or Inf found in input tensor.\n",
      "NaN or Inf found in input tensor.\n",
      "NaN or Inf found in input tensor.\n",
      "NaN or Inf found in input tensor.\n",
      "NaN or Inf found in input tensor.\n",
      "NaN or Inf found in input tensor.\n",
      "NaN or Inf found in input tensor.\n",
      "NaN or Inf found in input tensor.\n",
      "NaN or Inf found in input tensor.\n",
      "NaN or Inf found in input tensor.\n",
      "NaN or Inf found in input tensor.\n",
      "NaN or Inf found in input tensor.\n",
      "NaN or Inf found in input tensor.\n",
      "NaN or Inf found in input tensor.\n",
      "NaN or Inf found in input tensor.\n",
      "NaN or Inf found in input tensor.\n",
      "NaN or Inf found in input tensor.\n",
      "NaN or Inf found in input tensor.\n",
      "NaN or Inf found in input tensor.\n",
      "NaN or Inf found in input tensor.\n",
      "NaN or Inf found in input tensor.\n",
      "NaN or Inf found in input tensor.\n",
      "NaN or Inf found in input tensor.\n",
      "NaN or Inf found in input tensor.\n",
      "NaN or Inf found in input tensor.\n",
      "NaN or Inf found in input tensor.\n",
      "NaN or Inf found in input tensor.\n",
      "NaN or Inf found in input tensor.\n",
      "NaN or Inf found in input tensor.\n",
      "NaN or Inf found in input tensor.\n",
      "NaN or Inf found in input tensor.\n"
     ]
    },
    {
     "data": {
      "text/plain": "\n\n",
      "text/html": "<pre style=\"white-space:pre;overflow-x:auto;line-height:normal;font-family:Menlo,'DejaVu Sans Mono',consolas,'Courier New',monospace\">\n\n</pre>\n"
     },
     "metadata": {},
     "output_type": "display_data"
    },
    {
     "data": {
      "text/plain": "\u001b[3m                        Validation epoch=0                         \u001b[0m\n┏━━━━━━━━━━━━━━━━━━━━━━━━━━━━━━━━┳━━━━━━━━━━━━━━━━┳━━━━━━━━━━━━━━━┓\n┃\u001b[1m \u001b[0m\u001b[1mMetric                        \u001b[0m\u001b[1m \u001b[0m┃\u001b[1m \u001b[0m\u001b[1m         Value\u001b[0m\u001b[1m \u001b[0m┃\u001b[1m \u001b[0m\u001b[1m        Error\u001b[0m\u001b[1m \u001b[0m┃\n┡━━━━━━━━━━━━━━━━━━━━━━━━━━━━━━━━╇━━━━━━━━━━━━━━━━╇━━━━━━━━━━━━━━━┩\n│ adjusted_rand                  │        0.02725 │       0.00815 │\n│\u001b[1;95m \u001b[0m\u001b[1;95mattractive                    \u001b[0m\u001b[1;95m \u001b[0m│\u001b[1;95m \u001b[0m\u001b[1;95m22071474.00000\u001b[0m\u001b[1;95m \u001b[0m│\u001b[1;95m \u001b[0m\u001b[1;95m7356529.00000\u001b[0m\u001b[1;95m \u001b[0m│\n│ attractive_weighted            │ 22071474.00000 │ 7356529.00000 │\n│ background                     │        0.57866 │       0.06913 │\n│ background_weighted            │        0.05787 │       0.00691 │\n│ best_dbscan_eps                │        0.96231 │           nan │\n│ best_dbscan_min_samples        │        1.00000 │           nan │\n│ completeness                   │        0.64706 │       0.01379 │\n│ fowlkes_mallows                │        0.08461 │       0.02549 │\n│ homogeneity                    │        0.97678 │       0.02129 │\n│\u001b[1;95m \u001b[0m\u001b[1;95mrepulsive                     \u001b[0m\u001b[1;95m \u001b[0m│\u001b[1;95m \u001b[0m\u001b[1;95m       3.55815\u001b[0m\u001b[1;95m \u001b[0m│\u001b[1;95m \u001b[0m\u001b[1;95m      2.53240\u001b[0m\u001b[1;95m \u001b[0m│\n│ repulsive_weighted             │        7.11631 │       5.06480 │\n│ total                          │ 22071480.00000 │ 7356529.00000 │\n│ trk.double_majority            │        0.00893 │       0.01525 │\n│ trk.double_majority_pt0.5      │        0.00893 │       0.01525 │\n│\u001b[1;95m \u001b[0m\u001b[1;95mtrk.double_majority_pt0.9     \u001b[0m\u001b[1;95m \u001b[0m│\u001b[1;95m \u001b[0m\u001b[1;95m       0.00893\u001b[0m\u001b[1;95m \u001b[0m│\u001b[1;95m \u001b[0m\u001b[1;95m      0.01525\u001b[0m\u001b[1;95m \u001b[0m│\n│ trk.double_majority_pt1.5      │        0.00893 │       0.01525 │\n│ trk.fake_double_majority       │        0.03745 │       0.02570 │\n│ trk.fake_double_majority_pt0.5 │        0.03745 │       0.02570 │\n│ trk.fake_double_majority_pt0.9 │        0.03745 │       0.02570 │\n│ trk.fake_double_majority_pt1.5 │        0.03745 │       0.02570 │\n│ trk.fake_lhc                   │        0.83333 │       0.25820 │\n│ trk.fake_lhc_pt0.5             │        0.83333 │       0.25820 │\n│ trk.fake_lhc_pt0.9             │        0.83333 │       0.25820 │\n│ trk.fake_lhc_pt1.5             │        0.83333 │       0.25820 │\n│ trk.fake_perfect               │        0.04637 │       0.02764 │\n│ trk.fake_perfect_pt0.5         │        0.04637 │       0.02764 │\n│ trk.fake_perfect_pt0.9         │        0.04637 │       0.02764 │\n│ trk.fake_perfect_pt1.5         │        0.04637 │       0.02764 │\n│ trk.lhc                        │        0.16667 │       0.25820 │\n│ trk.lhc_pt0.5                  │        0.16667 │       0.25820 │\n│\u001b[1;95m \u001b[0m\u001b[1;95mtrk.lhc_pt0.9                 \u001b[0m\u001b[1;95m \u001b[0m│\u001b[1;95m \u001b[0m\u001b[1;95m       0.16667\u001b[0m\u001b[1;95m \u001b[0m│\u001b[1;95m \u001b[0m\u001b[1;95m      0.25820\u001b[0m\u001b[1;95m \u001b[0m│\n│ trk.lhc_pt1.5                  │        0.16667 │       0.25820 │\n│ trk.n_cleaned_clusters         │        1.57143 │       1.27242 │\n│ trk.n_cleaned_clusters_pt0.5   │        1.57143 │       1.27242 │\n│ trk.n_cleaned_clusters_pt0.9   │        1.57143 │       1.27242 │\n│ trk.n_cleaned_clusters_pt1.5   │        1.57143 │       1.27242 │\n│ trk.n_particles                │       32.42857 │       7.89213 │\n│ trk.n_particles_pt0.5          │       32.42857 │       7.89213 │\n│ trk.n_particles_pt0.9          │       32.42857 │       7.89213 │\n│ trk.n_particles_pt1.5          │       32.42857 │       7.89213 │\n│ trk.perfect                    │        0.00000 │       0.00000 │\n│ trk.perfect_pt0.5              │        0.00000 │       0.00000 │\n│\u001b[1;95m \u001b[0m\u001b[1;95mtrk.perfect_pt0.9             \u001b[0m\u001b[1;95m \u001b[0m│\u001b[1;95m \u001b[0m\u001b[1;95m       0.00000\u001b[0m\u001b[1;95m \u001b[0m│\u001b[1;95m \u001b[0m\u001b[1;95m      0.00000\u001b[0m\u001b[1;95m \u001b[0m│\n│ trk.perfect_pt1.5              │        0.00000 │       0.00000 │\n│ v_measure                      │        0.77830 │       0.01233 │\n└────────────────────────────────┴────────────────┴───────────────┘\n",
      "text/html": "<pre style=\"white-space:pre;overflow-x:auto;line-height:normal;font-family:Menlo,'DejaVu Sans Mono',consolas,'Courier New',monospace\"><span style=\"font-style: italic\">                        Validation epoch=0                         </span>\n┏━━━━━━━━━━━━━━━━━━━━━━━━━━━━━━━━┳━━━━━━━━━━━━━━━━┳━━━━━━━━━━━━━━━┓\n┃<span style=\"font-weight: bold\"> Metric                         </span>┃<span style=\"font-weight: bold\">          Value </span>┃<span style=\"font-weight: bold\">         Error </span>┃\n┡━━━━━━━━━━━━━━━━━━━━━━━━━━━━━━━━╇━━━━━━━━━━━━━━━━╇━━━━━━━━━━━━━━━┩\n│ adjusted_rand                  │        0.02725 │       0.00815 │\n│<span style=\"color: #ff00ff; text-decoration-color: #ff00ff; font-weight: bold\"> attractive                     </span>│<span style=\"color: #ff00ff; text-decoration-color: #ff00ff; font-weight: bold\"> 22071474.00000 </span>│<span style=\"color: #ff00ff; text-decoration-color: #ff00ff; font-weight: bold\"> 7356529.00000 </span>│\n│ attractive_weighted            │ 22071474.00000 │ 7356529.00000 │\n│ background                     │        0.57866 │       0.06913 │\n│ background_weighted            │        0.05787 │       0.00691 │\n│ best_dbscan_eps                │        0.96231 │           nan │\n│ best_dbscan_min_samples        │        1.00000 │           nan │\n│ completeness                   │        0.64706 │       0.01379 │\n│ fowlkes_mallows                │        0.08461 │       0.02549 │\n│ homogeneity                    │        0.97678 │       0.02129 │\n│<span style=\"color: #ff00ff; text-decoration-color: #ff00ff; font-weight: bold\"> repulsive                      </span>│<span style=\"color: #ff00ff; text-decoration-color: #ff00ff; font-weight: bold\">        3.55815 </span>│<span style=\"color: #ff00ff; text-decoration-color: #ff00ff; font-weight: bold\">       2.53240 </span>│\n│ repulsive_weighted             │        7.11631 │       5.06480 │\n│ total                          │ 22071480.00000 │ 7356529.00000 │\n│ trk.double_majority            │        0.00893 │       0.01525 │\n│ trk.double_majority_pt0.5      │        0.00893 │       0.01525 │\n│<span style=\"color: #ff00ff; text-decoration-color: #ff00ff; font-weight: bold\"> trk.double_majority_pt0.9      </span>│<span style=\"color: #ff00ff; text-decoration-color: #ff00ff; font-weight: bold\">        0.00893 </span>│<span style=\"color: #ff00ff; text-decoration-color: #ff00ff; font-weight: bold\">       0.01525 </span>│\n│ trk.double_majority_pt1.5      │        0.00893 │       0.01525 │\n│ trk.fake_double_majority       │        0.03745 │       0.02570 │\n│ trk.fake_double_majority_pt0.5 │        0.03745 │       0.02570 │\n│ trk.fake_double_majority_pt0.9 │        0.03745 │       0.02570 │\n│ trk.fake_double_majority_pt1.5 │        0.03745 │       0.02570 │\n│ trk.fake_lhc                   │        0.83333 │       0.25820 │\n│ trk.fake_lhc_pt0.5             │        0.83333 │       0.25820 │\n│ trk.fake_lhc_pt0.9             │        0.83333 │       0.25820 │\n│ trk.fake_lhc_pt1.5             │        0.83333 │       0.25820 │\n│ trk.fake_perfect               │        0.04637 │       0.02764 │\n│ trk.fake_perfect_pt0.5         │        0.04637 │       0.02764 │\n│ trk.fake_perfect_pt0.9         │        0.04637 │       0.02764 │\n│ trk.fake_perfect_pt1.5         │        0.04637 │       0.02764 │\n│ trk.lhc                        │        0.16667 │       0.25820 │\n│ trk.lhc_pt0.5                  │        0.16667 │       0.25820 │\n│<span style=\"color: #ff00ff; text-decoration-color: #ff00ff; font-weight: bold\"> trk.lhc_pt0.9                  </span>│<span style=\"color: #ff00ff; text-decoration-color: #ff00ff; font-weight: bold\">        0.16667 </span>│<span style=\"color: #ff00ff; text-decoration-color: #ff00ff; font-weight: bold\">       0.25820 </span>│\n│ trk.lhc_pt1.5                  │        0.16667 │       0.25820 │\n│ trk.n_cleaned_clusters         │        1.57143 │       1.27242 │\n│ trk.n_cleaned_clusters_pt0.5   │        1.57143 │       1.27242 │\n│ trk.n_cleaned_clusters_pt0.9   │        1.57143 │       1.27242 │\n│ trk.n_cleaned_clusters_pt1.5   │        1.57143 │       1.27242 │\n│ trk.n_particles                │       32.42857 │       7.89213 │\n│ trk.n_particles_pt0.5          │       32.42857 │       7.89213 │\n│ trk.n_particles_pt0.9          │       32.42857 │       7.89213 │\n│ trk.n_particles_pt1.5          │       32.42857 │       7.89213 │\n│ trk.perfect                    │        0.00000 │       0.00000 │\n│ trk.perfect_pt0.5              │        0.00000 │       0.00000 │\n│<span style=\"color: #ff00ff; text-decoration-color: #ff00ff; font-weight: bold\"> trk.perfect_pt0.9              </span>│<span style=\"color: #ff00ff; text-decoration-color: #ff00ff; font-weight: bold\">        0.00000 </span>│<span style=\"color: #ff00ff; text-decoration-color: #ff00ff; font-weight: bold\">       0.00000 </span>│\n│ trk.perfect_pt1.5              │        0.00000 │       0.00000 │\n│ v_measure                      │        0.77830 │       0.01233 │\n└────────────────────────────────┴────────────────┴───────────────┘\n</pre>\n"
     },
     "metadata": {},
     "output_type": "display_data"
    },
    {
     "name": "stderr",
     "output_type": "stream",
     "text": [
      "`Trainer.fit` stopped: `max_epochs=1` reached.\n"
     ]
    }
   ],
   "source": [
    "trainer = Trainer(max_epochs=1, accelerator=\"cpu\", log_every_n_steps=1)\n",
    "trainer.fit(model=lmodel, datamodule=dm)"
   ],
   "metadata": {
    "collapsed": false
   }
  }
 ],
 "metadata": {
  "kernelspec": {
   "display_name": "Python 3",
   "language": "python",
   "name": "python3"
  },
  "language_info": {
   "codemirror_mode": {
    "name": "ipython",
    "version": 2
   },
   "file_extension": ".py",
   "mimetype": "text/x-python",
   "name": "python",
   "nbconvert_exporter": "python",
   "pygments_lexer": "ipython2",
   "version": "2.7.6"
  }
 },
 "nbformat": 4,
 "nbformat_minor": 0
}
