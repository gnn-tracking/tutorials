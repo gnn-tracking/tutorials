{
 "cells": [
  {
   "cell_type": "markdown",
   "metadata": {},
   "source": [
    "# Edge Classifier Development"
   ]
  },
  {
   "cell_type": "code",
   "execution_count": null,
   "metadata": {},
   "outputs": [],
   "source": [
    "from pathlib import Path\n",
    "\n",
    "from gnn_tracking.postprocessing.dbscanscanner import dbscan_scan\n",
    "\n",
    "from gnn_tracking.models.track_condensation_networks import GraphTCN\n",
    "from gnn_tracking.training.tcn_trainer import TCNTrainer\n",
    "from gnn_tracking.metrics.losses import (\n",
    "    EdgeWeightFocalLoss,\n",
    "    PotentialLoss,\n",
    "    BackgroundLoss,\n",
    ")\n",
    "from gnn_tracking.utils.loading import get_loaders, TrackingDataset"
   ]
  },
  {
   "cell_type": "code",
   "execution_count": null,
   "metadata": {},
   "outputs": [],
   "source": [
    "train_dir = (\n",
    "    Path(\"/\")\n",
    "    / \"scratch\"\n",
    "    / \"gpfs\"\n",
    "    / \"IOJALVO\"\n",
    "    / \"gnn-tracking\"\n",
    "    / \"object_condensation\"\n",
    "    / \"graphs_v1\"\n",
    "    / \"part_4\"\n",
    ")\n",
    "test_dir = (\n",
    "    Path(\"/\")\n",
    "    / \"scratch\"\n",
    "    / \"gpfs\"\n",
    "    / \"IOJALVO\"\n",
    "    / \"gnn-tracking\"\n",
    "    / \"object_condensation\"\n",
    "    / \"graphs_v1\"\n",
    "    / \"part_5\"\n",
    ")\n",
    "assert train_dir.is_dir()\n",
    "assert test_dir.is_dir()"
   ]
  },
  {
   "cell_type": "code",
   "execution_count": null,
   "metadata": {},
   "outputs": [],
   "source": [
    "datasets = {\n",
    "    \"train\": TrackingDataset(train_dir, stop=500),\n",
    "    \"val\": TrackingDataset(test_dir, stop=100),\n",
    "}\n",
    "loaders = get_loaders(datasets)"
   ]
  },
  {
   "cell_type": "code",
   "execution_count": null,
   "metadata": {},
   "outputs": [],
   "source": [
    "import torch.nn\n",
    "from torch.nn import Module, Sequential, Linear, ReLU, Sigmoid\n",
    "\n",
    "\n",
    "class EC(Module):\n",
    "    def __init__(self, node_in_dim: int, edge_in_dim: int, hidden_dim: int):\n",
    "        super().__init__()\n",
    "        self.node_in_dim = node_in_dim\n",
    "        self.edge_in_dim = edge_in_dim\n",
    "        self.hidden_dim = hidden_dim\n",
    "\n",
    "        self.fcnn = Sequential(\n",
    "            Linear(edge_in_dim, hidden_dim),\n",
    "            ReLU(),\n",
    "            Linear(hidden_dim, hidden_dim),\n",
    "            ReLU(),\n",
    "            Linear(hidden_dim, 1),\n",
    "            Sigmoid(),\n",
    "        )\n",
    "\n",
    "    def forward(self, data):\n",
    "        x, edge_index, edge_attr = data.x, data.edge_index, data.edge_attr\n",
    "        return {\"W\": self.fcnn(edge_attr).squeeze()}\n",
    "\n",
    "\n",
    "model = EC(7, 4, 128)\n",
    "model(next(iter(loaders[\"train\"])))"
   ]
  },
  {
   "cell_type": "code",
   "execution_count": null,
   "metadata": {},
   "outputs": [],
   "source": [
    "loss_functions = {\n",
    "    \"edge\": (EdgeWeightFocalLoss(gamma=5, alpha=0.95), 500.0),\n",
    "}\n",
    "\n",
    "clustering_functions = {}\n",
    "\n",
    "\n",
    "class MyTCNTrainer(TCNTrainer):\n",
    "    def _log_losses(self, *args, **kwargs):\n",
    "        pass\n",
    "\n",
    "    def printed_results_filter(self, key):\n",
    "        return key in [\"max_mcc_pt0.9\", \"tpr_eq_tnr_pt0.9\"]\n",
    "\n",
    "\n",
    "trainer = MyTCNTrainer(\n",
    "    model=model,\n",
    "    loaders=loaders,\n",
    "    loss_functions=loss_functions,\n",
    "    lr=0.005,\n",
    "    cluster_functions=clustering_functions,\n",
    ")\n",
    "trainer.train(epochs=10)"
   ]
  }
 ],
 "metadata": {
  "kernelspec": {
   "display_name": "Python 3 (ipykernel)",
   "language": "python",
   "name": "python3"
  },
  "language_info": {
   "codemirror_mode": {
    "name": "ipython",
    "version": 3
   },
   "file_extension": ".py",
   "mimetype": "text/x-python",
   "name": "python",
   "nbconvert_exporter": "python",
   "pygments_lexer": "ipython3",
   "version": "3.10.4"
  }
 },
 "nbformat": 4,
 "nbformat_minor": 1
}
