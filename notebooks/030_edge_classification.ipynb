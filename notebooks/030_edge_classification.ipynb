{
 "cells": [
  {
   "cell_type": "markdown",
   "source": [
    "# Edge classification"
   ],
   "metadata": {
    "collapsed": false
   }
  },
  {
   "cell_type": "code",
   "execution_count": 1,
   "outputs": [],
   "source": [
    "from pytorch_lightning import Trainer\n",
    "from torch import nn\n",
    "from pytorch_lightning.core.mixins import HyperparametersMixin\n",
    "import torch\n",
    "from functools import partial\n",
    "\n",
    "from torch_geometric.data import Data\n",
    "from gnn_tracking.models.graph_construction import MLGraphConstructionFromChkpt\n",
    "\n",
    "from gnn_tracking.metrics.losses import EdgeWeightFocalLoss\n",
    "from gnn_tracking.training.ec import ECModule\n",
    "\n",
    "from gnn_tracking.utils.loading import TrackingDataModule"
   ],
   "metadata": {
    "collapsed": false
   }
  },
  {
   "cell_type": "markdown",
   "source": [
    "## From on-disk graphs"
   ],
   "metadata": {
    "collapsed": false
   }
  },
  {
   "cell_type": "markdown",
   "source": [
    "### 1. Setting up the data\n",
    "\n",
    "We can either directly load graphs (from disk), or we load point clouds and build edges on the fly using the module from `009_build_graphs_ml.ipynb`.\n",
    "\n",
    "We'll first do the former (for simplicity), using the simplified data from [here](https://cernbox.cern.ch/files/link/public/YQxujEYrVFFpylN?tiles-size=1&items-per-page=100&view-mode=resource-table&sort-dir=desc)."
   ],
   "metadata": {
    "collapsed": false
   }
  },
  {
   "cell_type": "code",
   "execution_count": 2,
   "outputs": [],
   "source": [
    "dm = TrackingDataModule(\n",
    "    train=dict(\n",
    "        dirs=[\"/Users/fuchur/tmp/truth_cut_graphs_for_gsoc_ec_challenge/batch_1_0/\"],\n",
    "        stop=5,\n",
    "    ),\n",
    "    val=dict(\n",
    "        dirs=[\"/Users/fuchur/tmp/truth_cut_graphs_for_gsoc_ec_challenge/batch_1_0/\"],\n",
    "        start=5,\n",
    "        stop=10,\n",
    "    ),\n",
    "    # could also configure a 'test' set here\n",
    ")"
   ],
   "metadata": {
    "collapsed": false
   }
  },
  {
   "cell_type": "markdown",
   "source": [
    "### 2. Defining the module"
   ],
   "metadata": {
    "collapsed": false
   }
  },
  {
   "cell_type": "code",
   "execution_count": 3,
   "outputs": [],
   "source": [
    "class SillyEC(nn.Module, HyperparametersMixin):\n",
    "    def __init__(\n",
    "        self,\n",
    "        node_in_dim: int,\n",
    "        edge_in_dim: int,\n",
    "        hidden_dim: int = 12,\n",
    "    ):\n",
    "        super().__init__()\n",
    "        self.save_hyperparameters()\n",
    "        self.node_in_dim = node_in_dim\n",
    "        self.edge_in_dim = edge_in_dim\n",
    "        self.hidden_dim = hidden_dim\n",
    "\n",
    "        self.fcnn = nn.Sequential(\n",
    "            nn.Linear(edge_in_dim, hidden_dim),\n",
    "            nn.ReLU(),\n",
    "            nn.Linear(hidden_dim, hidden_dim),\n",
    "            nn.ReLU(),\n",
    "            nn.Linear(hidden_dim, 1),\n",
    "            nn.Sigmoid(),\n",
    "        )\n",
    "\n",
    "    def forward(self, data):\n",
    "        w = self.fcnn(data.edge_attr).squeeze()\n",
    "        return {\"W\": w}"
   ],
   "metadata": {
    "collapsed": false
   }
  },
  {
   "cell_type": "code",
   "execution_count": 4,
   "outputs": [],
   "source": [
    "model = SillyEC(node_in_dim=6, edge_in_dim=4)"
   ],
   "metadata": {
    "collapsed": false
   }
  },
  {
   "cell_type": "markdown",
   "source": [
    "### 2. Setting up the loss functions and the lightning Module\n",
    "\n",
    "Unfortunately the GSoC challenge data didn't contain the pT information of each hit. However, this is expected by the trainer. So we cheat a little bit and just add a constant value when loading the data:"
   ],
   "metadata": {
    "collapsed": false
   }
  },
  {
   "cell_type": "code",
   "execution_count": 9,
   "outputs": [],
   "source": [
    "class AddFakePt(HyperparametersMixin):\n",
    "    def __call__(self, data: Data) -> Data:\n",
    "        if not hasattr(data, \"pt\"):\n",
    "            data.pt = torch.full_like(data.x, 1.0)\n",
    "        return data"
   ],
   "metadata": {
    "collapsed": false
   }
  },
  {
   "cell_type": "code",
   "execution_count": 10,
   "outputs": [
    {
     "name": "stderr",
     "output_type": "stream",
     "text": [
      "\u001b[36m[15:07:19] DEBUG: Got obj of type <class '__main__.SillyEC'>, assuming I have to save hyperparameters\u001b[0m\n",
      "\u001b[36m[15:07:19] DEBUG: Saving hyperperameters {'class_path': '__main__.SillyEC', 'init_args': {'node_in_dim': 6, 'edge_in_dim': 4, 'hidden_dim': 12}}\u001b[0m\n",
      "\u001b[36m[15:07:19] DEBUG: Got obj of type <class '__main__.AddFakePt'>, assuming I have to save hyperparameters\u001b[0m\n",
      "\u001b[36m[15:07:19] DEBUG: Saving hyperperameters {'class_path': '__main__.AddFakePt', 'init_args': {}}\u001b[0m\n",
      "\u001b[36m[15:07:19] DEBUG: Got obj of type <class 'gnn_tracking.metrics.losses.EdgeWeightFocalLoss'>, assuming I have to save hyperparameters\u001b[0m\n",
      "\u001b[36m[15:07:19] DEBUG: Saving hyperperameters {'class_path': 'gnn_tracking.metrics.losses.EdgeWeightFocalLoss', 'init_args': {'pt_thld': 0.0, 'alpha': 0.3, 'gamma': 2.0, 'pos_weight': tensor([1.])}}\u001b[0m\n"
     ]
    }
   ],
   "source": [
    "lmodel = ECModule(\n",
    "    model=model,\n",
    "    loss_fct=EdgeWeightFocalLoss(alpha=0.3),\n",
    "    optimizer=partial(torch.optim.Adam, lr=1e-4),\n",
    "    preproc=AddFakePt(),\n",
    ")"
   ],
   "metadata": {
    "collapsed": false
   }
  },
  {
   "cell_type": "markdown",
   "source": [
    "### 3. Starting training"
   ],
   "metadata": {
    "collapsed": false
   }
  },
  {
   "cell_type": "code",
   "execution_count": 11,
   "outputs": [
    {
     "name": "stderr",
     "output_type": "stream",
     "text": [
      "GPU available: True (mps), used: False\n",
      "TPU available: False, using: 0 TPU cores\n",
      "IPU available: False, using: 0 IPUs\n",
      "HPU available: False, using: 0 HPUs\n",
      "/Users/fuchur/micromamba/envs/gnn/lib/python3.11/site-packages/pytorch_lightning/trainer/setup.py:201: UserWarning: MPS available but not used. Set `accelerator` and `devices` using `Trainer(accelerator='mps', devices=1)`.\n",
      "  rank_zero_warn(\n",
      "\u001b[32m[15:07:20] INFO: DataLoader will load 5 graphs (out of 1000 available).\u001b[0m\n",
      "\u001b[36m[15:07:20] DEBUG: First graph is /Users/fuchur/tmp/truth_cut_graphs_for_gsoc_ec_challenge/batch_1_0/data21000_s14.pt, last graph is /Users/fuchur/tmp/truth_cut_graphs_for_gsoc_ec_challenge/batch_1_0/data21006_s27.pt\u001b[0m\n",
      "\u001b[32m[15:07:20] INFO: DataLoader will load 5 graphs (out of 1000 available).\u001b[0m\n",
      "\u001b[36m[15:07:20] DEBUG: First graph is /Users/fuchur/tmp/truth_cut_graphs_for_gsoc_ec_challenge/batch_1_0/data21008_s17.pt, last graph is /Users/fuchur/tmp/truth_cut_graphs_for_gsoc_ec_challenge/batch_1_0/data21012_s24.pt\u001b[0m\n",
      "\n",
      "  | Name     | Type                | Params\n",
      "-------------------------------------------------\n",
      "0 | model    | SillyEC             | 229   \n",
      "1 | loss_fct | EdgeWeightFocalLoss | 0     \n",
      "-------------------------------------------------\n",
      "229       Trainable params\n",
      "0         Non-trainable params\n",
      "229       Total params\n",
      "0.001     Total estimated model params size (MB)\n"
     ]
    },
    {
     "data": {
      "text/plain": "Sanity Checking: 0it [00:00, ?it/s]",
      "application/vnd.jupyter.widget-view+json": {
       "version_major": 2,
       "version_minor": 0,
       "model_id": "8a3c109c130f4ca5860ad5e6c62d5346"
      }
     },
     "metadata": {},
     "output_type": "display_data"
    },
    {
     "name": "stderr",
     "output_type": "stream",
     "text": [
      "/Users/fuchur/micromamba/envs/gnn/lib/python3.11/site-packages/pytorch_lightning/trainer/connectors/data_connector.py:432: PossibleUserWarning: The dataloader, val_dataloader, does not have many workers which may be a bottleneck. Consider increasing the value of the `num_workers` argument` (try 10 which is the number of cpus on this machine) in the `DataLoader` init to improve performance.\n",
      "  rank_zero_warn(\n"
     ]
    },
    {
     "data": {
      "text/plain": "\n\n",
      "text/html": "<pre style=\"white-space:pre;overflow-x:auto;line-height:normal;font-family:Menlo,'DejaVu Sans Mono',consolas,'Courier New',monospace\">\n\n</pre>\n"
     },
     "metadata": {},
     "output_type": "display_data"
    },
    {
     "data": {
      "text/plain": "\u001b[3m          Validation epoch=0          \u001b[0m\n┏━━━━━━━━━━━━━━━━━━┳━━━━━━━━━┳━━━━━━━┓\n┃\u001b[1m \u001b[0m\u001b[1mMetric          \u001b[0m\u001b[1m \u001b[0m┃\u001b[1m \u001b[0m\u001b[1m  Value\u001b[0m\u001b[1m \u001b[0m┃\u001b[1m \u001b[0m\u001b[1mError\u001b[0m\u001b[1m \u001b[0m┃\n┡━━━━━━━━━━━━━━━━━━╇━━━━━━━━━╇━━━━━━━┩\n│ max_ba           │ 0.50763 │   nan │\n│ max_ba_loc       │ 0.55276 │   nan │\n│ max_f1           │ 0.29417 │   nan │\n│ max_f1_loc       │ 0.55276 │   nan │\n│ max_mcc          │ 0.04988 │   nan │\n│ max_mcc_loc      │ 0.55276 │   nan │\n│ roc_auc          │ 0.13160 │   nan │\n│ roc_auc_0.001FPR │ 0.49975 │   nan │\n│ roc_auc_0.01FPR  │ 0.49749 │   nan │\n│ total            │ 0.15386 │   nan │\n│ tpr_eq_tnr       │ 0.22878 │   nan │\n│ tpr_eq_tnr_loc   │ 0.55779 │   nan │\n└──────────────────┴─────────┴───────┘\n",
      "text/html": "<pre style=\"white-space:pre;overflow-x:auto;line-height:normal;font-family:Menlo,'DejaVu Sans Mono',consolas,'Courier New',monospace\"><span style=\"font-style: italic\">          Validation epoch=0          </span>\n┏━━━━━━━━━━━━━━━━━━┳━━━━━━━━━┳━━━━━━━┓\n┃<span style=\"font-weight: bold\"> Metric           </span>┃<span style=\"font-weight: bold\">   Value </span>┃<span style=\"font-weight: bold\"> Error </span>┃\n┡━━━━━━━━━━━━━━━━━━╇━━━━━━━━━╇━━━━━━━┩\n│ max_ba           │ 0.50763 │   nan │\n│ max_ba_loc       │ 0.55276 │   nan │\n│ max_f1           │ 0.29417 │   nan │\n│ max_f1_loc       │ 0.55276 │   nan │\n│ max_mcc          │ 0.04988 │   nan │\n│ max_mcc_loc      │ 0.55276 │   nan │\n│ roc_auc          │ 0.13160 │   nan │\n│ roc_auc_0.001FPR │ 0.49975 │   nan │\n│ roc_auc_0.01FPR  │ 0.49749 │   nan │\n│ total            │ 0.15386 │   nan │\n│ tpr_eq_tnr       │ 0.22878 │   nan │\n│ tpr_eq_tnr_loc   │ 0.55779 │   nan │\n└──────────────────┴─────────┴───────┘\n</pre>\n"
     },
     "metadata": {},
     "output_type": "display_data"
    },
    {
     "name": "stderr",
     "output_type": "stream",
     "text": [
      "/Users/fuchur/micromamba/envs/gnn/lib/python3.11/site-packages/pytorch_lightning/trainer/connectors/data_connector.py:432: PossibleUserWarning: The dataloader, train_dataloader, does not have many workers which may be a bottleneck. Consider increasing the value of the `num_workers` argument` (try 10 which is the number of cpus on this machine) in the `DataLoader` init to improve performance.\n",
      "  rank_zero_warn(\n"
     ]
    },
    {
     "data": {
      "text/plain": "Training: 0it [00:00, ?it/s]",
      "application/vnd.jupyter.widget-view+json": {
       "version_major": 2,
       "version_minor": 0,
       "model_id": "920de160b90b4435a5f4d2639e093df2"
      }
     },
     "metadata": {},
     "output_type": "display_data"
    },
    {
     "data": {
      "text/plain": "Validation: 0it [00:00, ?it/s]",
      "application/vnd.jupyter.widget-view+json": {
       "version_major": 2,
       "version_minor": 0,
       "model_id": "855c757c33be44e7a78addc0f3d6d34f"
      }
     },
     "metadata": {},
     "output_type": "display_data"
    },
    {
     "data": {
      "text/plain": "\n\n",
      "text/html": "<pre style=\"white-space:pre;overflow-x:auto;line-height:normal;font-family:Menlo,'DejaVu Sans Mono',consolas,'Courier New',monospace\">\n\n</pre>\n"
     },
     "metadata": {},
     "output_type": "display_data"
    },
    {
     "data": {
      "text/plain": "\u001b[3m          Validation epoch=0          \u001b[0m\n┏━━━━━━━━━━━━━━━━━━┳━━━━━━━━━┳━━━━━━━┓\n┃\u001b[1m \u001b[0m\u001b[1mMetric          \u001b[0m\u001b[1m \u001b[0m┃\u001b[1m \u001b[0m\u001b[1m  Value\u001b[0m\u001b[1m \u001b[0m┃\u001b[1m \u001b[0m\u001b[1mError\u001b[0m\u001b[1m \u001b[0m┃\n┡━━━━━━━━━━━━━━━━━━╇━━━━━━━━━╇━━━━━━━┩\n│ max_ba           │ 0.50521 │   nan │\n│ max_ba_loc       │ 0.55276 │   nan │\n│ max_f1           │ 0.32422 │   nan │\n│ max_f1_loc       │ 0.55276 │   nan │\n│ max_mcc          │ 0.04133 │   nan │\n│ max_mcc_loc      │ 0.55276 │   nan │\n│ roc_auc          │ 0.12237 │   nan │\n│ roc_auc_0.001FPR │ 0.49975 │   nan │\n│ roc_auc_0.01FPR  │ 0.49749 │   nan │\n│ total            │ 0.15070 │   nan │\n│ tpr_eq_tnr       │ 0.23129 │   nan │\n│ tpr_eq_tnr_loc   │ 0.55779 │   nan │\n└──────────────────┴─────────┴───────┘\n",
      "text/html": "<pre style=\"white-space:pre;overflow-x:auto;line-height:normal;font-family:Menlo,'DejaVu Sans Mono',consolas,'Courier New',monospace\"><span style=\"font-style: italic\">          Validation epoch=0          </span>\n┏━━━━━━━━━━━━━━━━━━┳━━━━━━━━━┳━━━━━━━┓\n┃<span style=\"font-weight: bold\"> Metric           </span>┃<span style=\"font-weight: bold\">   Value </span>┃<span style=\"font-weight: bold\"> Error </span>┃\n┡━━━━━━━━━━━━━━━━━━╇━━━━━━━━━╇━━━━━━━┩\n│ max_ba           │ 0.50521 │   nan │\n│ max_ba_loc       │ 0.55276 │   nan │\n│ max_f1           │ 0.32422 │   nan │\n│ max_f1_loc       │ 0.55276 │   nan │\n│ max_mcc          │ 0.04133 │   nan │\n│ max_mcc_loc      │ 0.55276 │   nan │\n│ roc_auc          │ 0.12237 │   nan │\n│ roc_auc_0.001FPR │ 0.49975 │   nan │\n│ roc_auc_0.01FPR  │ 0.49749 │   nan │\n│ total            │ 0.15070 │   nan │\n│ tpr_eq_tnr       │ 0.23129 │   nan │\n│ tpr_eq_tnr_loc   │ 0.55779 │   nan │\n└──────────────────┴─────────┴───────┘\n</pre>\n"
     },
     "metadata": {},
     "output_type": "display_data"
    },
    {
     "name": "stderr",
     "output_type": "stream",
     "text": [
      "`Trainer.fit` stopped: `max_epochs=1` reached.\n"
     ]
    }
   ],
   "source": [
    "trainer = Trainer(max_epochs=1, accelerator=\"cpu\", log_every_n_steps=1)\n",
    "trainer.fit(model=lmodel, datamodule=dm)"
   ],
   "metadata": {
    "collapsed": false
   }
  },
  {
   "cell_type": "markdown",
   "source": [
    "## With graphs built on-the-fly from point clouds"
   ],
   "metadata": {
    "collapsed": false
   }
  },
  {
   "cell_type": "markdown",
   "source": [
    "Step 1: Configure data module to load point clouds (rather than graphs).\n",
    "Step 2: Add `MLGraphConstructionFromChkpt` as preproc."
   ],
   "metadata": {
    "collapsed": false
   }
  },
  {
   "cell_type": "code",
   "execution_count": 8,
   "outputs": [
    {
     "name": "stderr",
     "output_type": "stream",
     "text": [
      "\u001b[36m[15:04:52] DEBUG: Getting class GraphConstructionFCNN from module gnn_tracking.models.graph_construction\u001b[0m\n"
     ]
    },
    {
     "ename": "AssertionError",
     "evalue": "",
     "output_type": "error",
     "traceback": [
      "\u001b[0;31m---------------------------------------------------------------------------\u001b[0m",
      "\u001b[0;31mAssertionError\u001b[0m                            Traceback (most recent call last)",
      "Cell \u001b[0;32mIn[8], line 7\u001b[0m\n\u001b[1;32m      1\u001b[0m \u001b[38;5;28;01mfrom\u001b[39;00m \u001b[38;5;21;01mgnn_tracking\u001b[39;00m\u001b[38;5;21;01m.\u001b[39;00m\u001b[38;5;21;01mmodels\u001b[39;00m\u001b[38;5;21;01m.\u001b[39;00m\u001b[38;5;21;01mgraph_construction\u001b[39;00m \u001b[38;5;28;01mimport\u001b[39;00m MLGraphConstructionFromChkpt\n\u001b[1;32m      3\u001b[0m lmodel \u001b[38;5;241m=\u001b[39m ECModule(\n\u001b[1;32m      4\u001b[0m     model\u001b[38;5;241m=\u001b[39mmodel,\n\u001b[1;32m      5\u001b[0m     loss_fct\u001b[38;5;241m=\u001b[39mEdgeWeightFocalLoss(alpha\u001b[38;5;241m=\u001b[39m\u001b[38;5;241m0.3\u001b[39m),\n\u001b[1;32m      6\u001b[0m     optimizer\u001b[38;5;241m=\u001b[39mpartial(torch\u001b[38;5;241m.\u001b[39moptim\u001b[38;5;241m.\u001b[39mAdam, lr\u001b[38;5;241m=\u001b[39m\u001b[38;5;241m1e-4\u001b[39m),\n\u001b[0;32m----> 7\u001b[0m     preproc \u001b[38;5;241m=\u001b[39m \u001b[43mMLGraphConstructionFromChkpt\u001b[49m\u001b[43m(\u001b[49m\n\u001b[1;32m      8\u001b[0m \u001b[43m        \u001b[49m\u001b[43mml_class_name\u001b[49m\u001b[38;5;241;43m=\u001b[39;49m\u001b[38;5;124;43m\"\u001b[39;49m\u001b[38;5;124;43mgnn_tracking.models.graph_construction.GraphConstructionFCNN\u001b[39;49m\u001b[38;5;124;43m\"\u001b[39;49m\u001b[43m,\u001b[49m\n\u001b[1;32m      9\u001b[0m \u001b[43m        \u001b[49m\u001b[43mml_chkpt_path\u001b[49m\u001b[38;5;241;43m=\u001b[39;49m\u001b[38;5;124;43m\"\u001b[39;49m\u001b[38;5;124;43m/path/to/your/checkpoint\u001b[39;49m\u001b[38;5;124;43m\"\u001b[39;49m\n\u001b[1;32m     10\u001b[0m \u001b[43m    \u001b[49m\u001b[43m)\u001b[49m\n\u001b[1;32m     11\u001b[0m )\n",
      "File \u001b[0;32m~/Documents/22/git_sync/gnn_tracking/src/gnn_tracking/models/graph_construction.py:219\u001b[0m, in \u001b[0;36mMLGraphConstructionFromChkpt.__init__\u001b[0;34m(self, ml_class_name, ml_chkpt_path, ec_class_name, ec_chkpt_path, max_radius, max_num_neighbors, ratio_of_false, build_edge_features, ec_thld, ml_freeze, ec_freeze)\u001b[0m\n\u001b[1;32m    217\u001b[0m \u001b[38;5;28msuper\u001b[39m()\u001b[38;5;241m.\u001b[39m\u001b[38;5;21m__init__\u001b[39m()\n\u001b[1;32m    218\u001b[0m \u001b[38;5;28mself\u001b[39m\u001b[38;5;241m.\u001b[39msave_hyperparameters()\n\u001b[0;32m--> 219\u001b[0m ml \u001b[38;5;241m=\u001b[39m \u001b[43mget_model\u001b[49m\u001b[43m(\u001b[49m\u001b[43mml_class_name\u001b[49m\u001b[43m,\u001b[49m\u001b[43m \u001b[49m\u001b[43mml_chkpt_path\u001b[49m\u001b[43m)\u001b[49m\n\u001b[1;32m    220\u001b[0m ec \u001b[38;5;241m=\u001b[39m get_model(ec_class_name, ec_chkpt_path)\n\u001b[1;32m    221\u001b[0m \u001b[38;5;28mself\u001b[39m\u001b[38;5;241m.\u001b[39m_gc \u001b[38;5;241m=\u001b[39m MLGraphConstruction(\n\u001b[1;32m    222\u001b[0m     ml\u001b[38;5;241m=\u001b[39mml,\n\u001b[1;32m    223\u001b[0m     max_radius\u001b[38;5;241m=\u001b[39mmax_radius,\n\u001b[0;32m   (...)\u001b[0m\n\u001b[1;32m    228\u001b[0m     ec_threshold\u001b[38;5;241m=\u001b[39mec_thld,\n\u001b[1;32m    229\u001b[0m )\n",
      "File \u001b[0;32m~/Documents/22/git_sync/gnn_tracking/src/gnn_tracking/utils/lightning.py:96\u001b[0m, in \u001b[0;36mget_model\u001b[0;34m(class_path, chkpt_path, freeze)\u001b[0m\n\u001b[1;32m     90\u001b[0m \u001b[38;5;28;01mdef\u001b[39;00m \u001b[38;5;21mget_model\u001b[39m(\n\u001b[1;32m     91\u001b[0m     class_path: \u001b[38;5;28mstr\u001b[39m, chkpt_path: \u001b[38;5;28mstr\u001b[39m \u001b[38;5;241m=\u001b[39m \u001b[38;5;124m\"\u001b[39m\u001b[38;5;124m\"\u001b[39m, freeze: \u001b[38;5;28mbool\u001b[39m \u001b[38;5;241m=\u001b[39m \u001b[38;5;28;01mTrue\u001b[39;00m\n\u001b[1;32m     92\u001b[0m ) \u001b[38;5;241m-\u001b[39m\u001b[38;5;241m>\u001b[39m nn\u001b[38;5;241m.\u001b[39mModule \u001b[38;5;241m|\u001b[39m \u001b[38;5;28;01mNone\u001b[39;00m:\n\u001b[1;32m     93\u001b[0m \u001b[38;5;250m    \u001b[39m\u001b[38;5;124;03m\"\"\"Get torch model (specified by `class_path`, a string) and load a checkpoint.\u001b[39;00m\n\u001b[1;32m     94\u001b[0m \u001b[38;5;124;03m    Uses `get_lightning_module` to get the model.\u001b[39;00m\n\u001b[1;32m     95\u001b[0m \u001b[38;5;124;03m    \"\"\"\u001b[39;00m\n\u001b[0;32m---> 96\u001b[0m     lm \u001b[38;5;241m=\u001b[39m \u001b[43mget_lightning_module\u001b[49m\u001b[43m(\u001b[49m\u001b[43mclass_path\u001b[49m\u001b[43m,\u001b[49m\u001b[43m \u001b[49m\u001b[43mchkpt_path\u001b[49m\u001b[43m,\u001b[49m\u001b[43m \u001b[49m\u001b[43mfreeze\u001b[49m\u001b[38;5;241;43m=\u001b[39;49m\u001b[43mfreeze\u001b[49m\u001b[43m)\u001b[49m\n\u001b[1;32m     97\u001b[0m     \u001b[38;5;28;01mif\u001b[39;00m lm \u001b[38;5;129;01mis\u001b[39;00m \u001b[38;5;28;01mNone\u001b[39;00m:\n\u001b[1;32m     98\u001b[0m         \u001b[38;5;28;01mreturn\u001b[39;00m \u001b[38;5;28;01mNone\u001b[39;00m\n",
      "File \u001b[0;32m~/Documents/22/git_sync/gnn_tracking/src/gnn_tracking/utils/lightning.py:81\u001b[0m, in \u001b[0;36mget_lightning_module\u001b[0;34m(class_path, chkpt_path, freeze)\u001b[0m\n\u001b[1;32m     76\u001b[0m     \u001b[38;5;28;01mraise\u001b[39;00m \u001b[38;5;167;01mValueError\u001b[39;00m(\n\u001b[1;32m     77\u001b[0m         \u001b[38;5;124m\"\u001b[39m\u001b[38;5;124mThis function currently does not support to restore a model without \u001b[39m\u001b[38;5;124m\"\u001b[39m\n\u001b[1;32m     78\u001b[0m         \u001b[38;5;124m\"\u001b[39m\u001b[38;5;124mspecifying a Checkpoint.\u001b[39m\u001b[38;5;124m\"\u001b[39m\n\u001b[1;32m     79\u001b[0m     )\n\u001b[1;32m     80\u001b[0m model_class: \u001b[38;5;28mtype\u001b[39m \u001b[38;5;241m=\u001b[39m get_object_from_path(class_path)\n\u001b[0;32m---> 81\u001b[0m \u001b[38;5;28;01massert\u001b[39;00m \u001b[38;5;28missubclass\u001b[39m(model_class, LightningModule)\n\u001b[1;32m     82\u001b[0m logger\u001b[38;5;241m.\u001b[39mdebug(\u001b[38;5;124m\"\u001b[39m\u001b[38;5;124mLoading checkpoint \u001b[39m\u001b[38;5;132;01m%s\u001b[39;00m\u001b[38;5;124m\"\u001b[39m, chkpt_path)\n\u001b[1;32m     83\u001b[0m model \u001b[38;5;241m=\u001b[39m model_class\u001b[38;5;241m.\u001b[39mload_from_checkpoint(chkpt_path, strict\u001b[38;5;241m=\u001b[39m\u001b[38;5;28;01mTrue\u001b[39;00m)\n",
      "\u001b[0;31mAssertionError\u001b[0m: "
     ]
    }
   ],
   "source": [
    "lmodel = ECModule(\n",
    "    model=model,\n",
    "    loss_fct=EdgeWeightFocalLoss(alpha=0.3),\n",
    "    optimizer=partial(torch.optim.Adam, lr=1e-4),\n",
    "    preproc=MLGraphConstructionFromChkpt(\n",
    "        ml_class_name=\"gnn_tracking.models.graph_construction.GraphConstructionFCNN\",\n",
    "        ml_chkpt_path=\"/path/to/your/checkpoint\",\n",
    "    ),\n",
    ")"
   ],
   "metadata": {
    "collapsed": false
   }
  },
  {
   "cell_type": "markdown",
   "source": [
    "Instead of `MLGraphConstructionFromChkpt` you can also take a look at `MLGraphConstruction` that simply takes a model (that you can instantiate in any way)."
   ],
   "metadata": {
    "collapsed": false
   }
  },
  {
   "cell_type": "code",
   "execution_count": null,
   "outputs": [],
   "source": [],
   "metadata": {
    "collapsed": false
   }
  }
 ],
 "metadata": {
  "kernelspec": {
   "display_name": "Python 3",
   "language": "python",
   "name": "python3"
  },
  "language_info": {
   "codemirror_mode": {
    "name": "ipython",
    "version": 2
   },
   "file_extension": ".py",
   "mimetype": "text/x-python",
   "name": "python",
   "nbconvert_exporter": "python",
   "pygments_lexer": "ipython2",
   "version": "2.7.6"
  }
 },
 "nbformat": 4,
 "nbformat_minor": 0
}
