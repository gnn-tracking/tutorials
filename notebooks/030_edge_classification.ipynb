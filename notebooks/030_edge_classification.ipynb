{
 "cells": [
  {
   "cell_type": "markdown",
   "metadata": {
    "collapsed": false
   },
   "source": [
    "# Edge classification\n",
    "\n",
    "This notebooks shows how to classify edges of a graph. In many GNN tracking approaches, we start from an initial graph (e.g., built from a point cloud with the strategy described in `009_build_graphs_ml.ipynb`). We then try to falsify all edges that connected hits of two different particles. If edge classification (EC) would be perfect, we could then reconstruct tracks as connected components of the graph.\n",
    "For our object condensation approach, EC is only an auxiliary step. Edges are only considered for message passing but are not important for the final decision on how tracks look. However, EC is still important to help the model to learn quickly.\n",
    "\n",
    "For background on pytorch lightning, see `009_build_graphs_ml.ipynb`."
   ]
  },
  {
   "cell_type": "code",
   "execution_count": 76,
   "metadata": {
    "collapsed": false
   },
   "outputs": [],
   "source": [
    "from pytorch_lightning import Trainer\n",
    "from torch import nn\n",
    "from pytorch_lightning.core.mixins.hparams_mixin import HyperparametersMixin\n",
    "import torch\n",
    "from functools import partial\n",
    "\n",
    "from gnn_tracking.models.graph_construction import MLGraphConstructionFromChkpt\n",
    "\n",
    "from gnn_tracking.metrics.losses.ec import EdgeWeightFocalLoss\n",
    "from gnn_tracking.training.callbacks import PrintValidationMetrics\n",
    "from gnn_tracking.training.ec import ECModule\n",
    "\n",
    "from gnn_tracking.utils.loading import TrackingDataModule\n",
    "\n",
    "\n",
    "from gnn_tracking.utils.versioning import assert_version_geq\n",
    "\n",
    "assert_version_geq(\"23.12.0\")"
   ]
  },
  {
   "cell_type": "markdown",
   "metadata": {
    "collapsed": false
   },
   "source": [
    "We can either directly load graphs (from disk), or we load point clouds and build edges on the fly using the module from `009_build_graphs_ml.ipynb`."
   ]
  },
  {
   "cell_type": "markdown",
   "metadata": {
    "collapsed": false
   },
   "source": [
    "## From on-disk graphs"
   ]
  },
  {
   "cell_type": "markdown",
   "metadata": {
    "collapsed": false
   },
   "source": [
    "### 1. Setting up the data\n",
    "\n",
    "If you are not working on Princeton's `della`, you can download these example graphs [here](https://cernbox.cern.ch/s/4xYL99cd7zNe0VK). Note that this is simplified data (pt > 1 GeV truth cut) and a single event has been broken up into 32 sectors."
   ]
  },
  {
   "cell_type": "code",
   "execution_count": 85,
   "metadata": {
    "collapsed": false
   },
   "outputs": [],
   "source": [
    "dm = TrackingDataModule(\n",
    "    train=dict(\n",
    "        dirs=[\n",
    "            \"/scratch/gpfs/IOJALVO/gnn-tracking/object_condensation/graphs_v1/part1_pt1/all\"\n",
    "        ],\n",
    "        stop=28_000,\n",
    "        # If you run into memory issues, reduce this\n",
    "        batch_size=10,\n",
    "    ),\n",
    "    val=dict(\n",
    "        dirs=[\n",
    "            \"/scratch/gpfs/IOJALVO/gnn-tracking/object_condensation/graphs_v1/part1_pt1/all\"\n",
    "        ],\n",
    "        start=28_000,\n",
    "        stop=28_100,\n",
    "    ),\n",
    "    identifier=\"graphs_v1\",\n",
    ")"
   ]
  },
  {
   "cell_type": "markdown",
   "metadata": {
    "collapsed": false
   },
   "source": [
    "### 2. Defining the module"
   ]
  },
  {
   "cell_type": "code",
   "execution_count": 86,
   "metadata": {
    "collapsed": false
   },
   "outputs": [],
   "source": [
    "class SillyEC(nn.Module, HyperparametersMixin):\n",
    "    def __init__(\n",
    "        self,\n",
    "        node_in_dim: int,\n",
    "        edge_in_dim: int,\n",
    "        hidden_dim: int = 12,\n",
    "    ):\n",
    "        super().__init__()\n",
    "        self.save_hyperparameters()\n",
    "        self.node_in_dim = node_in_dim\n",
    "        self.edge_in_dim = edge_in_dim\n",
    "        self.hidden_dim = hidden_dim\n",
    "\n",
    "        self.fcnn = nn.Sequential(\n",
    "            nn.Linear(edge_in_dim, hidden_dim),\n",
    "            nn.ReLU(),\n",
    "            nn.Linear(hidden_dim, hidden_dim),\n",
    "            nn.ReLU(),\n",
    "            nn.Linear(hidden_dim, 1),\n",
    "            nn.Sigmoid(),\n",
    "        )\n",
    "\n",
    "    def forward(self, data):\n",
    "        w = self.fcnn(data.edge_attr).squeeze()\n",
    "        return {\"W\": w}"
   ]
  },
  {
   "cell_type": "code",
   "execution_count": 87,
   "metadata": {
    "collapsed": false
   },
   "outputs": [],
   "source": [
    "model = SillyEC(node_in_dim=6, edge_in_dim=4, hidden_dim=128)"
   ]
  },
  {
   "cell_type": "markdown",
   "metadata": {
    "collapsed": false
   },
   "source": [
    "### 2. Setting up the loss functions and the lightning module"
   ]
  },
  {
   "cell_type": "code",
   "execution_count": 88,
   "metadata": {
    "collapsed": false
   },
   "outputs": [],
   "source": [
    "lmodel = ECModule(\n",
    "    model=model,\n",
    "    loss_fct=EdgeWeightFocalLoss(alpha=0.3),\n",
    "    optimizer=partial(torch.optim.Adam, lr=1e-4),\n",
    ")"
   ]
  },
  {
   "cell_type": "markdown",
   "metadata": {
    "collapsed": false
   },
   "source": [
    "### 3. Starting training"
   ]
  },
  {
   "cell_type": "code",
   "execution_count": 89,
   "metadata": {
    "collapsed": false
   },
   "outputs": [
    {
     "name": "stderr",
     "output_type": "stream",
     "text": [
      "/scratch/gpfs/kl5675/micromamba/envs/gnn/lib/python3.10/site-packages/lightning_fabric/plugins/environments/slurm.py:191: The `srun` command is available on your system but is not used. HINT: If your intention is to run Lightning on SLURM, prepend your python command with `srun` like so: srun python /scratch/gpfs/kl5675/micromamba/envs/gnn/lib/python3 ...\n",
      "GPU available: False, used: False\n",
      "TPU available: False, using: 0 TPU cores\n",
      "IPU available: False, using: 0 IPUs\n",
      "HPU available: False, using: 0 HPUs\n",
      "\u001b[32m[16:06:55] INFO: DataLoader will load 28000 graphs (out of 28800 available).\u001b[0m\n",
      "\u001b[36m[16:06:55] DEBUG: First graph is /scratch/gpfs/IOJALVO/gnn-tracking/object_condensation/graphs_v1/part1_pt1/all/data21000_s0.pt, last graph is /scratch/gpfs/IOJALVO/gnn-tracking/object_condensation/graphs_v1/part1_pt1/all/data21974_s9.pt\u001b[0m\n",
      "\u001b[32m[16:06:56] INFO: DataLoader will load 100 graphs (out of 28800 available).\u001b[0m\n",
      "\u001b[36m[16:06:56] DEBUG: First graph is /scratch/gpfs/IOJALVO/gnn-tracking/object_condensation/graphs_v1/part1_pt1/all/data21975_s0.pt, last graph is /scratch/gpfs/IOJALVO/gnn-tracking/object_condensation/graphs_v1/part1_pt1/all/data21978_s11.pt\u001b[0m\n",
      "\n",
      "  | Name     | Type                | Params\n",
      "-------------------------------------------------\n",
      "0 | model    | SillyEC             | 17.3 K\n",
      "1 | loss_fct | EdgeWeightFocalLoss | 0     \n",
      "-------------------------------------------------\n",
      "17.3 K    Trainable params\n",
      "0         Non-trainable params\n",
      "17.3 K    Total params\n",
      "0.069     Total estimated model params size (MB)\n"
     ]
    },
    {
     "name": "stdout",
     "output_type": "stream",
     "text": [
      "Sanity Checking: |                                                                                                                                                                                                             | 0/? [00:00<?, ?it/s]"
     ]
    },
    {
     "name": "stderr",
     "output_type": "stream",
     "text": [
      "/scratch/gpfs/kl5675/micromamba/envs/gnn/lib/python3.10/site-packages/pytorch_lightning/trainer/connectors/data_connector.py:441: The 'val_dataloader' does not have many workers which may be a bottleneck. Consider increasing the value of the `num_workers` argument` to `num_workers=1` in the `DataLoader` to improve performance.\n"
     ]
    },
    {
     "name": "stdout",
     "output_type": "stream",
     "text": [
      "                                                                                                                                                                                                                                                     \r"
     ]
    },
    {
     "name": "stderr",
     "output_type": "stream",
     "text": [
      "/scratch/gpfs/kl5675/micromamba/envs/gnn/lib/python3.10/site-packages/pytorch_lightning/trainer/connectors/data_connector.py:441: The 'train_dataloader' does not have many workers which may be a bottleneck. Consider increasing the value of the `num_workers` argument` to `num_workers=1` in the `DataLoader` to improve performance.\n"
     ]
    },
    {
     "name": "stdout",
     "output_type": "stream",
     "text": [
      "Epoch 0:   4%|█████▉                                                                                                                                                                 | 100/2800 [00:24<11:10,  4.03it/s, v_num=8, total_train=0.0646]"
     ]
    },
    {
     "data": {
      "text/html": [
       "<pre style=\"white-space:pre;overflow-x:auto;line-height:normal;font-family:Menlo,'DejaVu Sans Mono',consolas,'Courier New',monospace\"></pre>\n"
      ],
      "text/plain": []
     },
     "metadata": {},
     "output_type": "display_data"
    },
    {
     "name": "stdout",
     "output_type": "stream",
     "text": [
      "\n",
      "                                                                                                                                                                                                                                                     \n",
      "                                                                                                                                                                                                                                                     \n",
      "\u001b[3m              Validation epoch=0              \u001b[0m                                                                                                                                                                                               \n",
      "┏━━━━━━━━━━━━━━━━━━━━━━━━┳━━━━━━━━━┳━━━━━━━━━┓\n",
      "┃\u001b[1m \u001b[0m\u001b[1mMetric                \u001b[0m\u001b[1m \u001b[0m┃\u001b[1m \u001b[0m\u001b[1m  Value\u001b[0m\u001b[1m \u001b[0m┃\u001b[1m \u001b[0m\u001b[1m  Error\u001b[0m\u001b[1m \u001b[0m┃\n",
      "┡━━━━━━━━━━━━━━━━━━━━━━━━╇━━━━━━━━━╇━━━━━━━━━┩\n",
      "│ max_ba                 │ 0.81276 │ 0.00218 │\n",
      "│ max_ba_loc             │ 0.42698 │ 0.00009 │\n",
      "│ max_ba_loc_pt0.5       │ 0.42698 │ 0.00009 │\n",
      "│ max_ba_loc_pt0.9       │ 0.42698 │ 0.00009 │\n",
      "│ max_ba_loc_pt1.5       │ 0.42663 │ 0.00017 │\n",
      "│ max_ba_pt0.5           │ 0.81276 │ 0.00218 │\n",
      "│ max_ba_pt0.9           │ 0.81276 │ 0.00218 │\n",
      "│ max_ba_pt1.5           │ 0.80939 │ 0.00313 │\n",
      "│ max_f1                 │ 0.63106 │ 0.00708 │\n",
      "│ max_f1_loc             │ 0.42714 │ 0.00000 │\n",
      "│ max_f1_loc_pt0.5       │ 0.42714 │ 0.00000 │\n",
      "│ max_f1_loc_pt0.9       │ 0.42714 │ 0.00000 │\n",
      "│ max_f1_loc_pt1.5       │ 0.42749 │ 0.00013 │\n",
      "│ max_f1_pt0.5           │ 0.63106 │ 0.00708 │\n",
      "│ max_f1_pt0.9           │ 0.63106 │ 0.00708 │\n",
      "│ max_f1_pt1.5           │ 0.53800 │ 0.00936 │\n",
      "│ max_mcc                │ 0.53974 │ 0.00572 │\n",
      "│ max_mcc_loc            │ 0.42719 │ 0.00005 │\n",
      "│ max_mcc_loc_pt0.5      │ 0.42719 │ 0.00005 │\n",
      "│ max_mcc_loc_pt0.9      │ 0.42719 │ 0.00005 │\n",
      "│ max_mcc_loc_pt1.5      │ 0.42779 │ 0.00017 │\n",
      "│ max_mcc_pt0.5          │ 0.53974 │ 0.00572 │\n",
      "│\u001b[1;95m \u001b[0m\u001b[1;95mmax_mcc_pt0.9         \u001b[0m\u001b[1;95m \u001b[0m│\u001b[1;95m \u001b[0m\u001b[1;95m0.53974\u001b[0m\u001b[1;95m \u001b[0m│\u001b[1;95m \u001b[0m\u001b[1;95m0.00572\u001b[0m\u001b[1;95m \u001b[0m│\n",
      "│ max_mcc_pt1.5          │ 0.48179 │ 0.00770 │\n",
      "│ roc_auc                │ 0.87181 │ 0.00222 │\n",
      "│ roc_auc_0.001FPR       │ 0.50003 │ 0.00008 │\n",
      "│ roc_auc_0.001FPR_pt0.5 │ 0.50003 │ 0.00008 │\n",
      "│ roc_auc_0.001FPR_pt0.9 │ 0.50003 │ 0.00008 │\n",
      "│ roc_auc_0.001FPR_pt1.5 │ 0.50805 │ 0.00270 │\n",
      "│ roc_auc_0.01FPR        │ 0.51681 │ 0.00309 │\n",
      "│ roc_auc_0.01FPR_pt0.5  │ 0.51681 │ 0.00309 │\n",
      "│ roc_auc_0.01FPR_pt0.9  │ 0.51681 │ 0.00309 │\n",
      "│ roc_auc_0.01FPR_pt1.5  │ 0.53808 │ 0.00470 │\n",
      "│ roc_auc_pt0.5          │ 0.87181 │ 0.00222 │\n",
      "│ roc_auc_pt0.9          │ 0.87181 │ 0.00222 │\n",
      "│ roc_auc_pt1.5          │ 0.87136 │ 0.00296 │\n",
      "│\u001b[1;95m \u001b[0m\u001b[1;95mtotal                 \u001b[0m\u001b[1;95m \u001b[0m│\u001b[1;95m \u001b[0m\u001b[1;95m0.06456\u001b[0m\u001b[1;95m \u001b[0m│\u001b[1;95m \u001b[0m\u001b[1;95m    nan\u001b[0m\u001b[1;95m \u001b[0m│\n",
      "│ total_train            │ 0.06461 │     nan │\n",
      "│ tpr_eq_tnr             │ 0.81249 │ 0.00221 │\n",
      "│ tpr_eq_tnr_loc         │ 0.42693 │ 0.00010 │\n",
      "│ tpr_eq_tnr_loc_pt0.5   │ 0.42693 │ 0.00010 │\n",
      "│ tpr_eq_tnr_loc_pt0.9   │ 0.42693 │ 0.00010 │\n",
      "│ tpr_eq_tnr_loc_pt1.5   │ 0.42693 │ 0.00012 │\n",
      "│ tpr_eq_tnr_pt0.5       │ 0.81249 │ 0.00221 │\n",
      "│\u001b[1;95m \u001b[0m\u001b[1;95mtpr_eq_tnr_pt0.9      \u001b[0m\u001b[1;95m \u001b[0m│\u001b[1;95m \u001b[0m\u001b[1;95m0.81249\u001b[0m\u001b[1;95m \u001b[0m│\u001b[1;95m \u001b[0m\u001b[1;95m0.00221\u001b[0m\u001b[1;95m \u001b[0m│\n",
      "│ tpr_eq_tnr_pt1.5       │ 0.80665 │ 0.00382 │\n",
      "└────────────────────────┴─────────┴─────────┘\n",
      "\n",
      "Epoch 0:   4%|█████▉                                                                                                                                                                 | 100/2800 [00:32<14:50,  3.03it/s, v_num=8, total_train=0.0646]"
     ]
    },
    {
     "name": "stderr",
     "output_type": "stream",
     "text": [
      "`Trainer.fit` stopped: `max_steps=100` reached.\n"
     ]
    },
    {
     "name": "stdout",
     "output_type": "stream",
     "text": [
      "Epoch 0:   4%|█████▉                                                                                                                                                                 | 100/2800 [00:32<14:50,  3.03it/s, v_num=8, total_train=0.0646]\n"
     ]
    }
   ],
   "source": [
    "trainer = Trainer(\n",
    "    max_steps=100,\n",
    "    val_check_interval=100,\n",
    "    accelerator=\"cpu\",\n",
    "    log_every_n_steps=1,\n",
    "    callbacks=[PrintValidationMetrics()],\n",
    ")\n",
    "trainer.fit(model=lmodel, datamodule=dm)"
   ]
  },
  {
   "cell_type": "markdown",
   "metadata": {
    "collapsed": false
   },
   "source": [
    "## With graphs built on-the-fly from point clouds"
   ]
  },
  {
   "cell_type": "markdown",
   "metadata": {
    "collapsed": false
   },
   "source": [
    "Step 1: Configure data module to load point clouds (rather than graphs).\n",
    "Step 2: Add `MLGraphConstructionFromChkpt` as preproc."
   ]
  },
  {
   "cell_type": "code",
   "execution_count": null,
   "metadata": {
    "collapsed": false
   },
   "outputs": [],
   "source": [
    "lmodel = ECModule(\n",
    "    model=model,\n",
    "    loss_fct=EdgeWeightFocalLoss(alpha=0.3),\n",
    "    optimizer=partial(torch.optim.Adam, lr=1e-4),\n",
    "    preproc=MLGraphConstructionFromChkpt(\n",
    "        ml_class_name=\"gnn_tracking.models.graph_construction.GraphConstructionFCNN\",\n",
    "        ml_chkpt_path=\"/path/to/your/checkpoint\",\n",
    "    ),\n",
    ")"
   ]
  },
  {
   "cell_type": "markdown",
   "metadata": {
    "collapsed": false
   },
   "source": [
    "Instead of `MLGraphConstructionFromChkpt` you can also take a look at `MLGraphConstruction` that simply takes a model (that you can instantiate in any way)."
   ]
  }
 ],
 "metadata": {
  "kernelspec": {
   "display_name": "Python 3 (ipykernel)",
   "language": "python",
   "name": "python3"
  },
  "language_info": {
   "codemirror_mode": {
    "name": "ipython",
    "version": 3
   },
   "file_extension": ".py",
   "mimetype": "text/x-python",
   "name": "python",
   "nbconvert_exporter": "python",
   "pygments_lexer": "ipython3",
   "version": "3.10.11"
  }
 },
 "nbformat": 4,
 "nbformat_minor": 0
}
