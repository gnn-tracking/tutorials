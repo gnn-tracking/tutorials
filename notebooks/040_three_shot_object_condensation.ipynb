{
 "cells": [
  {
   "cell_type": "markdown",
   "metadata": {
    "collapsed": false
   },
   "source": [
    "# Three-shot object condensation\n",
    "\n",
    "This sketches how to implement the pipleine of \"graph construction (GC)\" > \"edge classification (EC)\" > \"object condensation (OC)\".\n",
    "There are multiple options."
   ]
  },
  {
   "cell_type": "markdown",
   "metadata": {
    "collapsed": false
   },
   "source": [
    "## Using graphs on disk\n",
    "\n",
    "`020_one_shot_object_condensation.ipynb` built graphs using kNN as part of the `GravNetConv`. But if you directly load graphs from disk, you can simply use any GNN and everything will work."
   ]
  },
  {
   "cell_type": "markdown",
   "metadata": {
    "collapsed": false
   },
   "source": [
    "## From point clouds on disk and a pre-trained GC + EC\n",
    "\n",
    "We simply follow the last example from the EC notebook:"
   ]
  },
  {
   "cell_type": "markdown",
   "metadata": {
    "collapsed": false
   },
   "source": [
    "```python3\n",
    "lmodel = TCModule(\n",
    "    model=model,\n",
    "    ...,\n",
    "    preproc = MLGraphConstructionFromChkpt(\n",
    "        ml_class_name=\"gnn_tracking.models.graph_construction.GraphConstructionFCNN\",\n",
    "        ml_chkpt_path=\"/path/to/your/checkpoint\",\n",
    "        ec_class_name=\"gnn_tracking.models.edge_classifier.ECForGraphTCN\",\n",
    "        ec_chkpt_path=\"/path/to/your/checkpoint\",\n",
    "    ),\n",
    ")\n",
    "```"
   ]
  },
  {
   "cell_type": "markdown",
   "metadata": {
    "collapsed": false
   },
   "source": [
    "Other than the `preproc` step, everything can be set up like in the EC notebook."
   ]
  }
 ],
 "metadata": {
  "kernelspec": {
   "display_name": "Python 3",
   "language": "python",
   "name": "python3"
  },
  "language_info": {
   "codemirror_mode": {
    "name": "ipython",
    "version": 2
   },
   "file_extension": ".py",
   "mimetype": "text/x-python",
   "name": "python",
   "nbconvert_exporter": "python",
   "pygments_lexer": "ipython2",
   "version": "2.7.6"
  }
 },
 "nbformat": 4,
 "nbformat_minor": 0
}
